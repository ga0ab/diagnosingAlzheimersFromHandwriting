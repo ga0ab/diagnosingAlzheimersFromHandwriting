{
 "cells": [
  {
   "cell_type": "markdown",
   "id": "5929e628-5896-4f4f-92e2-575ff1064a78",
   "metadata": {},
   "source": [
    "## Our initial analysis focused on evaluating the performance of the four selected classifiers using the complete DARWIN data set with all 450 features.\n",
    "\n",
    "This approach served as our baseline, providing a fundamental understanding of each classifier's capability to differentiate between Alzheimer's patients and healthy controls.\n",
    "\n",
    "### **This notebook contains the baseline for Random Forest**"
   ]
  },
  {
   "cell_type": "code",
   "execution_count": 4,
   "id": "82d8174b-4aba-4e8d-9c49-f459949a0838",
   "metadata": {},
   "outputs": [
    {
     "name": "stdout",
     "output_type": "stream",
     "text": [
      "Final Aggregated Performance Metrics with 5-Fold Cross-Validation:\n",
      "Mean Accuracy: 0.8503 ± 0.0856\n",
      "Mean Precision: 0.8312 ± 0.1345\n",
      "Mean Recall: 0.9075 ± 0.0869\n",
      "Mean F1 Score: 0.8571 ± 0.0785\n",
      "Mean Sensitivity: 0.9075 ± 0.0869\n",
      "Mean Specificity: 0.8098 ± 0.1687\n"
     ]
    }
   ],
   "source": [
    "import pandas as pd\n",
    "from ucimlrepo import fetch_ucirepo\n",
    "import numpy as np\n",
    "from sklearn.ensemble import RandomForestClassifier\n",
    "from sklearn.metrics import accuracy_score, precision_score, recall_score, f1_score, confusion_matrix\n",
    "from sklearn.model_selection import KFold\n",
    "\n",
    "# Fetch dataset \n",
    "darwin = fetch_ucirepo(id=732)\n",
    "\n",
    "# Data (as pandas dataframes)\n",
    "X = darwin.data.features\n",
    "y = darwin.data.targets\n",
    "\n",
    "X = X.drop(columns=['ID'])  # Remove ID column as it's not needed\n",
    "\n",
    "# Parameters for Random Forest\n",
    "params = {'bootstrap': True, 'criterion': 'gini', 'max_depth': 2, 'min_samples_leaf': 1, 'min_samples_split': 2, 'n_estimators': 50}\n",
    "\n",
    "# Lists to store performance metrics\n",
    "all_accuracies = []\n",
    "all_precisions = []\n",
    "all_recalls = []\n",
    "all_f1_scores = []\n",
    "all_sensitivities = []\n",
    "all_specificities = []\n",
    "\n",
    "# Set up 5-fold cross-validation\n",
    "kf = KFold(n_splits=10, shuffle=True, random_state=42)\n",
    "\n",
    "# Cross-validation loop\n",
    "for train_index, test_index in kf.split(X):\n",
    "    X_train, X_test = X.iloc[train_index], X.iloc[test_index]\n",
    "    y_train, y_test = y.iloc[train_index], y.iloc[test_index]\n",
    "\n",
    "    # Ensure y_train and y_test are 1D\n",
    "    y_train = y_train.values.ravel()\n",
    "    y_test = y_test.values.ravel()\n",
    "\n",
    "    # Create Random Forest classifier with the specified parameters\n",
    "    clf_rf = RandomForestClassifier(**params, random_state=42)\n",
    "\n",
    "    # Train the model\n",
    "    clf_rf.fit(X_train, y_train)\n",
    "\n",
    "    # Predict on test data\n",
    "    y_pred = clf_rf.predict(X_test)\n",
    "\n",
    "    # Calculate metrics\n",
    "    accuracy = accuracy_score(y_test, y_pred)\n",
    "    precision = precision_score(y_test, y_pred, average='binary', pos_label='P')  # Explicitly define pos_label\n",
    "    recall = recall_score(y_test, y_pred, average='binary', pos_label='P')        # Explicitly define pos_label\n",
    "    f1 = f1_score(y_test, y_pred, average='binary', pos_label='P')                # Explicitly define pos_label\n",
    "\n",
    "    all_accuracies.append(accuracy)\n",
    "    all_precisions.append(precision)\n",
    "    all_recalls.append(recall)\n",
    "    all_f1_scores.append(f1)\n",
    "\n",
    "    # Calculate confusion matrix components\n",
    "    cm = confusion_matrix(y_test, y_pred, labels=['H', 'P'])\n",
    "    # Correctly identify the elements of the confusion matrix\n",
    "    if cm.shape == (2, 2):  # Ensure it's a 2x2 matrix for binary classification\n",
    "        tn, fp, fn, tp = cm.ravel()\n",
    "        sensitivity = tp / (tp + fn) if (tp + fn) > 0 else 0\n",
    "        specificity = tn / (tn + fp) if (tn + fp) > 0 else 0\n",
    "    else:\n",
    "        # If it's not a 2x2 matrix, something went wrong\n",
    "        print(f\"Unexpected confusion matrix shape: {cm.shape}\")\n",
    "        sensitivity = specificity = 0\n",
    "\n",
    "    all_sensitivities.append(sensitivity)\n",
    "    all_specificities.append(specificity)\n",
    "\n",
    "# Calculate overall mean and standard deviation for metrics\n",
    "final_metrics = {\n",
    "    'mean_accuracy': np.mean(all_accuracies),\n",
    "    'std_accuracy': np.std(all_accuracies),\n",
    "    'mean_precision': np.mean(all_precisions),\n",
    "    'std_precision': np.std(all_precisions),\n",
    "    'mean_recall': np.mean(all_recalls),\n",
    "    'std_recall': np.std(all_recalls),\n",
    "    'mean_f1_score': np.mean(all_f1_scores),\n",
    "    'std_f1_score': np.std(all_f1_scores),\n",
    "    'mean_sensitivity': np.mean(all_sensitivities),\n",
    "    'std_sensitivity': np.std(all_sensitivities),\n",
    "    'mean_specificity': np.mean(all_specificities),\n",
    "    'std_specificity': np.std(all_specificities),\n",
    "}\n",
    "\n",
    "# Print the final aggregated metrics\n",
    "print(\"Final Aggregated Performance Metrics with 5-Fold Cross-Validation:\")\n",
    "print(f\"Mean Accuracy: {final_metrics['mean_accuracy']:.4f} ± {final_metrics['std_accuracy']:.4f}\")\n",
    "print(f\"Mean Precision: {final_metrics['mean_precision']:.4f} ± {final_metrics['std_precision']:.4f}\")\n",
    "print(f\"Mean Recall: {final_metrics['mean_recall']:.4f} ± {final_metrics['std_recall']:.4f}\")\n",
    "print(f\"Mean F1 Score: {final_metrics['mean_f1_score']:.4f} ± {final_metrics['std_f1_score']:.4f}\")\n",
    "print(f\"Mean Sensitivity: {final_metrics['mean_sensitivity']:.4f} ± {final_metrics['std_sensitivity']:.4f}\")\n",
    "print(f\"Mean Specificity: {final_metrics['mean_specificity']:.4f} ± {final_metrics['std_specificity']:.4f}\")\n"
   ]
  },
  {
   "cell_type": "code",
   "execution_count": 5,
   "id": "b63494df-f852-4a64-bf44-9684fda0af31",
   "metadata": {},
   "outputs": [
    {
     "data": {
      "text/plain": [
       "[np.float64(0.8888888888888888),\n",
       " np.float64(0.8571428571428571),\n",
       " np.float64(0.7058823529411765),\n",
       " np.float64(1.0),\n",
       " np.float64(0.9473684210526315),\n",
       " np.float64(0.875),\n",
       " np.float64(0.8571428571428571),\n",
       " np.float64(0.8),\n",
       " np.float64(0.782608695652174),\n",
       " np.float64(0.8571428571428571)]"
      ]
     },
     "execution_count": 5,
     "metadata": {},
     "output_type": "execute_result"
    }
   ],
   "source": [
    "all_f1_scores"
   ]
  },
  {
   "cell_type": "code",
   "execution_count": 6,
   "id": "a9ba1551-189a-436c-9e5e-6d22ea0995d8",
   "metadata": {},
   "outputs": [
    {
     "data": {
      "text/plain": [
       "[0.8888888888888888,\n",
       " 0.8333333333333334,\n",
       " 0.7222222222222222,\n",
       " 1.0,\n",
       " 0.9411764705882353,\n",
       " 0.8823529411764706,\n",
       " 0.8235294117647058,\n",
       " 0.8235294117647058,\n",
       " 0.7058823529411765,\n",
       " 0.8823529411764706]"
      ]
     },
     "execution_count": 6,
     "metadata": {},
     "output_type": "execute_result"
    }
   ],
   "source": [
    "all_accuracies"
   ]
  },
  {
   "cell_type": "code",
   "execution_count": 7,
   "id": "226f0092-f4c3-4806-8206-aa1ac8b71d01",
   "metadata": {},
   "outputs": [
    {
     "data": {
      "text/plain": [
       "[np.float64(0.8888888888888888),\n",
       " np.float64(0.9),\n",
       " np.float64(0.5454545454545454),\n",
       " np.float64(1.0),\n",
       " np.float64(1.0),\n",
       " np.float64(0.7777777777777778),\n",
       " np.float64(0.9),\n",
       " np.float64(0.8571428571428571),\n",
       " np.float64(0.6923076923076923),\n",
       " np.float64(0.75)]"
      ]
     },
     "execution_count": 7,
     "metadata": {},
     "output_type": "execute_result"
    }
   ],
   "source": [
    "all_precisions"
   ]
  },
  {
   "cell_type": "code",
   "execution_count": 8,
   "id": "a8870001-ee62-47e1-a42c-a716fea51dd6",
   "metadata": {},
   "outputs": [
    {
     "data": {
      "text/plain": [
       "[np.float64(0.8888888888888888),\n",
       " np.float64(0.8181818181818182),\n",
       " np.float64(1.0),\n",
       " np.float64(1.0),\n",
       " np.float64(0.9),\n",
       " np.float64(1.0),\n",
       " np.float64(0.8181818181818182),\n",
       " np.float64(0.75),\n",
       " np.float64(0.9),\n",
       " np.float64(1.0)]"
      ]
     },
     "execution_count": 8,
     "metadata": {},
     "output_type": "execute_result"
    }
   ],
   "source": [
    "all_recalls"
   ]
  },
  {
   "cell_type": "code",
   "execution_count": 9,
   "id": "839d38ab-e3f1-4f23-9883-625832e83b99",
   "metadata": {},
   "outputs": [
    {
     "data": {
      "text/plain": [
       "[np.float64(0.8888888888888888),\n",
       " np.float64(0.8181818181818182),\n",
       " np.float64(1.0),\n",
       " np.float64(1.0),\n",
       " np.float64(0.9),\n",
       " np.float64(1.0),\n",
       " np.float64(0.8181818181818182),\n",
       " np.float64(0.75),\n",
       " np.float64(0.9),\n",
       " np.float64(1.0)]"
      ]
     },
     "execution_count": 9,
     "metadata": {},
     "output_type": "execute_result"
    }
   ],
   "source": [
    "all_sensitivities"
   ]
  },
  {
   "cell_type": "code",
   "execution_count": 10,
   "id": "dc83b34c-7271-42ae-927c-35b9ab2d1999",
   "metadata": {},
   "outputs": [
    {
     "data": {
      "text/plain": [
       "[np.float64(0.8888888888888888),\n",
       " np.float64(0.8571428571428571),\n",
       " np.float64(0.5833333333333334),\n",
       " np.float64(1.0),\n",
       " np.float64(1.0),\n",
       " np.float64(0.8),\n",
       " np.float64(0.8333333333333334),\n",
       " np.float64(0.8888888888888888),\n",
       " np.float64(0.42857142857142855),\n",
       " np.float64(0.8181818181818182)]"
      ]
     },
     "execution_count": 10,
     "metadata": {},
     "output_type": "execute_result"
    }
   ],
   "source": [
    "all_specificities"
   ]
  },
  {
   "cell_type": "code",
   "execution_count": null,
   "id": "21c982de-be60-408e-9006-12bfdce6b5d0",
   "metadata": {},
   "outputs": [],
   "source": []
  }
 ],
 "metadata": {
  "kernelspec": {
   "display_name": "Python 3 (ipykernel)",
   "language": "python",
   "name": "python3"
  },
  "language_info": {
   "codemirror_mode": {
    "name": "ipython",
    "version": 3
   },
   "file_extension": ".py",
   "mimetype": "text/x-python",
   "name": "python",
   "nbconvert_exporter": "python",
   "pygments_lexer": "ipython3",
   "version": "3.11.5"
  }
 },
 "nbformat": 4,
 "nbformat_minor": 5
}
