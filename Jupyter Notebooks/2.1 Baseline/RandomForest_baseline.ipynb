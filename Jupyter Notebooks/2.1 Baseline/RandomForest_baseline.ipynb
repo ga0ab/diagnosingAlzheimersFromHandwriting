{
 "cells": [
  {
   "cell_type": "markdown",
   "id": "ae282b2f-5d2f-4bb7-94e5-6d25d1916c06",
   "metadata": {},
   "source": [
    "## As an alternative to k-fold cross-validation, we also performed something which was suggested in the reference paper: \n",
    "\n",
    "\"To reduce as much as possible the bias introduced by the randomness in selecting the samples of the training and test set, we performed twenty runs. In each run, the dataset was randomly shuffled and split into a training and a test set.\"\n",
    "\n",
    "### Cf. Section 2.1 of our report (we proved there is no significant statistical difference between the results we get with this methodology and k-fold)"
   ]
  },
  {
   "cell_type": "markdown",
   "id": "5a521b89-bd41-486b-a231-45e6446a68cc",
   "metadata": {},
   "source": [
    "## Random Forest (20 iterations)"
   ]
  },
  {
   "cell_type": "code",
   "execution_count": 1,
   "id": "d5fe556c-484f-4fdc-a181-6c3ef7ead750",
   "metadata": {},
   "outputs": [
    {
     "name": "stdout",
     "output_type": "stream",
     "text": [
      "Final Aggregated Performance Metrics:\n",
      "Mean Accuracy: 0.8729 ± 0.0553\n",
      "Mean Precision: 0.8688 ± 0.0752\n",
      "Mean Recall: 0.8972 ± 0.0791\n",
      "Mean F1 Score: 0.8789 ± 0.0532\n",
      "Mean Sensitivity: 0.8972 ± 0.0791\n",
      "Mean Specificity: 0.8471 ± 0.1009\n"
     ]
    }
   ],
   "source": [
    "import pandas as pd\n",
    "from ucimlrepo import fetch_ucirepo\n",
    "import numpy as np\n",
    "from sklearn.ensemble import RandomForestClassifier\n",
    "from sklearn.metrics import accuracy_score, precision_score, recall_score, f1_score, confusion_matrix\n",
    "from sklearn.model_selection import train_test_split\n",
    "\n",
    "# Fetch dataset \n",
    "darwin = fetch_ucirepo(id=732)\n",
    "\n",
    "# Data (as pandas dataframes)\n",
    "X = darwin.data.features\n",
    "y = darwin.data.targets\n",
    "\n",
    "X = X.drop(columns=['ID'])  # Remove ID column as it's not needed\n",
    "\n",
    "# Number of runs\n",
    "n_runs = 20\n",
    "\n",
    "params = {'bootstrap': True, 'criterion': 'gini', 'max_depth': 2, 'min_samples_leaf': 1, 'min_samples_split': 2, 'n_estimators': 50}\n",
    "\n",
    "# Lists to store performance metrics\n",
    "all_accuracies = []\n",
    "all_precisions = []\n",
    "all_recalls = []\n",
    "all_f1_scores = []\n",
    "all_sensitivities = []\n",
    "all_specificities = []\n",
    "\n",
    "# Run the model multiple times for robustness\n",
    "for run in range(n_runs):\n",
    "    # Shuffle and split the data\n",
    "    X_train, X_test, y_train, y_test = train_test_split(\n",
    "        X, y, test_size=0.2, random_state=None, stratify=y\n",
    "    )\n",
    "\n",
    "    # Ensure y_train and y_test are 1D\n",
    "    y_train = y_train.values.ravel()\n",
    "    y_test = y_test.values.ravel()\n",
    "\n",
    "    # Create Random Forest classifier with the specified parameters\n",
    "    clf_rf = RandomForestClassifier(**params, random_state=42)\n",
    "\n",
    "    # Train the model\n",
    "    clf_rf.fit(X_train, y_train)\n",
    "\n",
    "    # Predict on test data\n",
    "    y_pred = clf_rf.predict(X_test)\n",
    "\n",
    "    # Calculate metrics\n",
    "    accuracy = accuracy_score(y_test, y_pred)\n",
    "    precision = precision_score(y_test, y_pred, average='binary', pos_label='P')  # Explicitly define pos_label\n",
    "    recall = recall_score(y_test, y_pred, average='binary', pos_label='P')        # Explicitly define pos_label\n",
    "    f1 = f1_score(y_test, y_pred, average='binary', pos_label='P')                # Explicitly define pos_label\n",
    "\n",
    "    all_accuracies.append(accuracy)\n",
    "    all_precisions.append(precision)\n",
    "    all_recalls.append(recall)\n",
    "    all_f1_scores.append(f1)\n",
    "\n",
    "    # Calculate confusion matrix components\n",
    "    cm = confusion_matrix(y_test, y_pred, labels=['H', 'P'])\n",
    "    # Correctly identify the elements of the confusion matrix\n",
    "    if cm.shape == (2, 2):  # Ensure it's a 2x2 matrix for binary classification\n",
    "        tn, fp, fn, tp = cm.ravel()\n",
    "        sensitivity = tp / (tp + fn) if (tp + fn) > 0 else 0\n",
    "        specificity = tn / (tn + fp) if (tn + fp) > 0 else 0\n",
    "    else:\n",
    "        # If it's not a 2x2 matrix, something went wrong\n",
    "        print(f\"Unexpected confusion matrix shape: {cm.shape}\")\n",
    "        sensitivity = specificity = 0\n",
    "\n",
    "    all_sensitivities.append(sensitivity)\n",
    "    all_specificities.append(specificity)\n",
    "\n",
    "# Calculate overall mean and standard deviation for metrics\n",
    "final_metrics = {\n",
    "    'mean_accuracy': np.mean(all_accuracies),\n",
    "    'std_accuracy': np.std(all_accuracies),\n",
    "    'mean_precision': np.mean(all_precisions),\n",
    "    'std_precision': np.std(all_precisions),\n",
    "    'mean_recall': np.mean(all_recalls),\n",
    "    'std_recall': np.std(all_recalls),\n",
    "    'mean_f1_score': np.mean(all_f1_scores),\n",
    "    'std_f1_score': np.std(all_f1_scores),\n",
    "    'mean_sensitivity': np.mean(all_sensitivities),\n",
    "    'std_sensitivity': np.std(all_sensitivities),\n",
    "    'mean_specificity': np.mean(all_specificities),\n",
    "    'std_specificity': np.std(all_specificities),\n",
    "}\n",
    "\n",
    "# Print the final aggregated metrics\n",
    "print(\"Final Aggregated Performance Metrics:\")\n",
    "print(f\"Mean Accuracy: {final_metrics['mean_accuracy']:.4f} ± {final_metrics['std_accuracy']:.4f}\")\n",
    "print(f\"Mean Precision: {final_metrics['mean_precision']:.4f} ± {final_metrics['std_precision']:.4f}\")\n",
    "print(f\"Mean Recall: {final_metrics['mean_recall']:.4f} ± {final_metrics['std_recall']:.4f}\")\n",
    "print(f\"Mean F1 Score: {final_metrics['mean_f1_score']:.4f} ± {final_metrics['std_f1_score']:.4f}\")\n",
    "print(f\"Mean Sensitivity: {final_metrics['mean_sensitivity']:.4f} ± {final_metrics['std_sensitivity']:.4f}\")\n",
    "print(f\"Mean Specificity: {final_metrics['mean_specificity']:.4f} ± {final_metrics['std_specificity']:.4f}\")"
   ]
  },
  {
   "cell_type": "code",
   "execution_count": 13,
   "id": "f6cdbbc9-0e65-4816-814d-a5b8ea9b6bde",
   "metadata": {},
   "outputs": [
    {
     "data": {
      "text/plain": [
       "[0.8285714285714286,\n",
       " 0.9428571428571428,\n",
       " 0.7714285714285715,\n",
       " 0.9142857142857143,\n",
       " 0.8,\n",
       " 0.8571428571428571,\n",
       " 0.9142857142857143,\n",
       " 0.8285714285714286,\n",
       " 0.9428571428571428,\n",
       " 0.8285714285714286,\n",
       " 0.9142857142857143,\n",
       " 0.8285714285714286,\n",
       " 0.9714285714285714,\n",
       " 0.9428571428571428,\n",
       " 0.8285714285714286,\n",
       " 0.8285714285714286,\n",
       " 0.8857142857142857,\n",
       " 0.8857142857142857,\n",
       " 0.9142857142857143,\n",
       " 0.8285714285714286]"
      ]
     },
     "execution_count": 13,
     "metadata": {},
     "output_type": "execute_result"
    }
   ],
   "source": [
    "all_accuracies\n"
   ]
  },
  {
   "cell_type": "code",
   "execution_count": 19,
   "id": "604f0a5b-9dfa-436a-8532-0286a3f71484",
   "metadata": {},
   "outputs": [
    {
     "data": {
      "text/plain": [
       "[np.float64(0.8333333333333334),\n",
       " np.float64(0.9),\n",
       " np.float64(0.75),\n",
       " np.float64(0.9411764705882353),\n",
       " np.float64(0.9230769230769231),\n",
       " np.float64(0.8421052631578947),\n",
       " np.float64(0.8947368421052632),\n",
       " np.float64(0.8),\n",
       " np.float64(0.9),\n",
       " np.float64(0.8333333333333334),\n",
       " np.float64(1.0),\n",
       " np.float64(0.75),\n",
       " np.float64(1.0),\n",
       " np.float64(0.9444444444444444),\n",
       " np.float64(0.8333333333333334),\n",
       " np.float64(0.75),\n",
       " np.float64(0.8888888888888888),\n",
       " np.float64(0.85),\n",
       " np.float64(0.9411764705882353),\n",
       " np.float64(0.8)]"
      ]
     },
     "execution_count": 19,
     "metadata": {},
     "output_type": "execute_result"
    }
   ],
   "source": [
    "all_precisions"
   ]
  },
  {
   "cell_type": "code",
   "execution_count": 15,
   "id": "ae981b5a-9469-43d6-828c-c0670d68fb88",
   "metadata": {},
   "outputs": [
    {
     "data": {
      "text/plain": [
       "[np.float64(0.8333333333333334),\n",
       " np.float64(1.0),\n",
       " np.float64(0.8333333333333334),\n",
       " np.float64(0.8888888888888888),\n",
       " np.float64(0.6666666666666666),\n",
       " np.float64(0.8888888888888888),\n",
       " np.float64(0.9444444444444444),\n",
       " np.float64(0.8888888888888888),\n",
       " np.float64(1.0),\n",
       " np.float64(0.8333333333333334),\n",
       " np.float64(0.8333333333333334),\n",
       " np.float64(1.0),\n",
       " np.float64(0.9444444444444444),\n",
       " np.float64(0.9444444444444444),\n",
       " np.float64(0.8333333333333334),\n",
       " np.float64(1.0),\n",
       " np.float64(0.8888888888888888),\n",
       " np.float64(0.9444444444444444),\n",
       " np.float64(0.8888888888888888),\n",
       " np.float64(0.8888888888888888)]"
      ]
     },
     "execution_count": 15,
     "metadata": {},
     "output_type": "execute_result"
    }
   ],
   "source": [
    "all_recalls"
   ]
  },
  {
   "cell_type": "code",
   "execution_count": 16,
   "id": "7fbfadd0-01a2-4615-9760-4835ad08a707",
   "metadata": {},
   "outputs": [
    {
     "data": {
      "text/plain": [
       "[np.float64(0.8333333333333334),\n",
       " np.float64(0.9473684210526315),\n",
       " np.float64(0.7894736842105263),\n",
       " np.float64(0.9142857142857143),\n",
       " np.float64(0.7741935483870968),\n",
       " np.float64(0.8648648648648649),\n",
       " np.float64(0.918918918918919),\n",
       " np.float64(0.8421052631578947),\n",
       " np.float64(0.9473684210526315),\n",
       " np.float64(0.8333333333333334),\n",
       " np.float64(0.9090909090909091),\n",
       " np.float64(0.8571428571428571),\n",
       " np.float64(0.9714285714285714),\n",
       " np.float64(0.9444444444444444),\n",
       " np.float64(0.8333333333333334),\n",
       " np.float64(0.8571428571428571),\n",
       " np.float64(0.8888888888888888),\n",
       " np.float64(0.8947368421052632),\n",
       " np.float64(0.9142857142857143),\n",
       " np.float64(0.8421052631578947)]"
      ]
     },
     "execution_count": 16,
     "metadata": {},
     "output_type": "execute_result"
    }
   ],
   "source": [
    "all_f1_scores"
   ]
  },
  {
   "cell_type": "code",
   "execution_count": 17,
   "id": "677bace5-b12d-4e18-9526-c30dc48457ec",
   "metadata": {},
   "outputs": [
    {
     "data": {
      "text/plain": [
       "[np.float64(0.8333333333333334),\n",
       " np.float64(1.0),\n",
       " np.float64(0.8333333333333334),\n",
       " np.float64(0.8888888888888888),\n",
       " np.float64(0.6666666666666666),\n",
       " np.float64(0.8888888888888888),\n",
       " np.float64(0.9444444444444444),\n",
       " np.float64(0.8888888888888888),\n",
       " np.float64(1.0),\n",
       " np.float64(0.8333333333333334),\n",
       " np.float64(0.8333333333333334),\n",
       " np.float64(1.0),\n",
       " np.float64(0.9444444444444444),\n",
       " np.float64(0.9444444444444444),\n",
       " np.float64(0.8333333333333334),\n",
       " np.float64(1.0),\n",
       " np.float64(0.8888888888888888),\n",
       " np.float64(0.9444444444444444),\n",
       " np.float64(0.8888888888888888),\n",
       " np.float64(0.8888888888888888)]"
      ]
     },
     "execution_count": 17,
     "metadata": {},
     "output_type": "execute_result"
    }
   ],
   "source": [
    "all_sensitivities"
   ]
  },
  {
   "cell_type": "code",
   "execution_count": 18,
   "id": "01d4fec3-1429-439d-89cd-4f39dfc06ba9",
   "metadata": {},
   "outputs": [
    {
     "data": {
      "text/plain": [
       "[np.float64(0.8235294117647058),\n",
       " np.float64(0.8823529411764706),\n",
       " np.float64(0.7058823529411765),\n",
       " np.float64(0.9411764705882353),\n",
       " np.float64(0.9411764705882353),\n",
       " np.float64(0.8235294117647058),\n",
       " np.float64(0.8823529411764706),\n",
       " np.float64(0.7647058823529411),\n",
       " np.float64(0.8823529411764706),\n",
       " np.float64(0.8235294117647058),\n",
       " np.float64(1.0),\n",
       " np.float64(0.6470588235294118),\n",
       " np.float64(1.0),\n",
       " np.float64(0.9411764705882353),\n",
       " np.float64(0.8235294117647058),\n",
       " np.float64(0.6470588235294118),\n",
       " np.float64(0.8823529411764706),\n",
       " np.float64(0.8235294117647058),\n",
       " np.float64(0.9411764705882353),\n",
       " np.float64(0.7647058823529411)]"
      ]
     },
     "execution_count": 18,
     "metadata": {},
     "output_type": "execute_result"
    }
   ],
   "source": [
    "all_specificities"
   ]
  },
  {
   "cell_type": "code",
   "execution_count": null,
   "id": "232a87ac-63ad-43e4-9b7c-e370fa24a200",
   "metadata": {},
   "outputs": [],
   "source": []
  }
 ],
 "metadata": {
  "kernelspec": {
   "display_name": "Python 3 (ipykernel)",
   "language": "python",
   "name": "python3"
  },
  "language_info": {
   "codemirror_mode": {
    "name": "ipython",
    "version": 3
   },
   "file_extension": ".py",
   "mimetype": "text/x-python",
   "name": "python",
   "nbconvert_exporter": "python",
   "pygments_lexer": "ipython3",
   "version": "3.11.5"
  }
 },
 "nbformat": 4,
 "nbformat_minor": 5
}
