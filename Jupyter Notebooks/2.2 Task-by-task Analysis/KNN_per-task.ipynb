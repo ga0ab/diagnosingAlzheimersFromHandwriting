{
 "cells": [
  {
   "cell_type": "markdown",
   "id": "c7f40998-6691-48da-8473-285be02a2699",
   "metadata": {},
   "source": [
    "## This approach involved training and evaluating our four classifiers on 25 distinct feature sets, each corresponding to a specific handwriting task in the DARWIN data set."
   ]
  },
  {
   "cell_type": "markdown",
   "id": "8a5c8143-5f50-4492-8f6e-a93e0baa38c4",
   "metadata": {},
   "source": [
    "### Here we do it for the KNN classifier"
   ]
  },
  {
   "cell_type": "code",
   "execution_count": 2,
   "id": "d28ca952-4374-4258-8bc6-decfd3463329",
   "metadata": {},
   "outputs": [],
   "source": [
    "'''\n",
    "We extract the feature vectors from each of the 25 tasks.\n",
    "'''\n",
    " \n",
    "import pandas as pd\n",
    "from ucimlrepo import fetch_ucirepo\n",
    " \n",
    "# Fetch dataset \n",
    "darwin = fetch_ucirepo(id=732)\n",
    " \n",
    "# Data (as pandas dataframes)\n",
    "X = darwin.data.features\n",
    "y = darwin.data.targets\n",
    " \n",
    "X = X.drop(columns=['ID'])\n",
    " \n",
    "# Number of attributes per task\n",
    "num_attributes_per_task = 18\n",
    " \n",
    "# Number of tasks\n",
    "num_tasks = 25\n",
    " \n",
    "# Create a dictionary to hold the DataFrames for each task\n",
    "task_dfs = {}\n",
    " \n",
    "# Create a dictionary to hold the labels for each task\n",
    "task_labels = {}\n",
    " \n",
    "# Iterate through the number of tasks\n",
    "for i in range(num_tasks):\n",
    "    # Column indices for the current task\n",
    "    start_index = i * num_attributes_per_task\n",
    "    end_index = start_index + num_attributes_per_task\n",
    "    # Select columns for the current task\n",
    "    task_columns = X.columns[start_index:end_index]\n",
    "    # Create a DataFrame for the current task\n",
    "    task_df = X[task_columns].copy()\n",
    "    # Store the DataFrame in the dictionary with the key 'task_i'\n",
    "    task_dfs[f'task_{i + 1}'] = task_df\n",
    "    # Select labels for the current task\n",
    "    task_labels[f'task_{i + 1}'] = y.copy()  # Labels are identical for all tasks, adjust if necessary"
   ]
  },
  {
   "cell_type": "markdown",
   "id": "fb0b3832-ac4b-4832-83c5-b8ef3d5332d8",
   "metadata": {},
   "source": [
    "### Performing grid search to compute the best parameters"
   ]
  },
  {
   "cell_type": "code",
   "execution_count": 2,
   "id": "f26eb394-eb0e-4ade-9d6e-34d8c2a35e63",
   "metadata": {},
   "outputs": [
    {
     "name": "stdout",
     "output_type": "stream",
     "text": [
      "Fitting 5 folds for each of 4800 candidates, totalling 24000 fits\n"
     ]
    },
    {
     "name": "stderr",
     "output_type": "stream",
     "text": [
      "C:\\Users\\gabri\\anaconda3\\envs\\DMML\\Lib\\site-packages\\numpy\\ma\\core.py:2881: RuntimeWarning: invalid value encountered in cast\n",
      "  _data = np.array(data, dtype=dtype, copy=copy,\n",
      "C:\\Users\\gabri\\anaconda3\\envs\\DMML\\Lib\\site-packages\\sklearn\\model_selection\\_search.py:1102: UserWarning: One or more of the test scores are non-finite: [nan nan nan ... nan nan nan]\n",
      "  warnings.warn(\n",
      "C:\\Users\\gabri\\anaconda3\\envs\\DMML\\Lib\\site-packages\\sklearn\\neighbors\\_classification.py:238: DataConversionWarning: A column-vector y was passed when a 1d array was expected. Please change the shape of y to (n_samples,), for example using ravel().\n",
      "  return self._fit(X, y)\n"
     ]
    },
    {
     "name": "stdout",
     "output_type": "stream",
     "text": [
      "Best Parameters for task_1: {'algorithm': 'auto', 'leaf_size': 10, 'metric': 'minkowski', 'metric_params': None, 'n_neighbors': 1, 'p': 1, 'weights': 'uniform'}\n",
      "Fitting 5 folds for each of 4800 candidates, totalling 24000 fits\n"
     ]
    },
    {
     "name": "stderr",
     "output_type": "stream",
     "text": [
      "C:\\Users\\gabri\\anaconda3\\envs\\DMML\\Lib\\site-packages\\numpy\\ma\\core.py:2881: RuntimeWarning: invalid value encountered in cast\n",
      "  _data = np.array(data, dtype=dtype, copy=copy,\n",
      "C:\\Users\\gabri\\anaconda3\\envs\\DMML\\Lib\\site-packages\\sklearn\\model_selection\\_search.py:1102: UserWarning: One or more of the test scores are non-finite: [nan nan nan ... nan nan nan]\n",
      "  warnings.warn(\n",
      "C:\\Users\\gabri\\anaconda3\\envs\\DMML\\Lib\\site-packages\\sklearn\\neighbors\\_classification.py:238: DataConversionWarning: A column-vector y was passed when a 1d array was expected. Please change the shape of y to (n_samples,), for example using ravel().\n",
      "  return self._fit(X, y)\n"
     ]
    },
    {
     "name": "stdout",
     "output_type": "stream",
     "text": [
      "Best Parameters for task_2: {'algorithm': 'auto', 'leaf_size': 10, 'metric': 'minkowski', 'metric_params': None, 'n_neighbors': 1, 'p': 1, 'weights': 'uniform'}\n",
      "Fitting 5 folds for each of 4800 candidates, totalling 24000 fits\n"
     ]
    },
    {
     "name": "stderr",
     "output_type": "stream",
     "text": [
      "C:\\Users\\gabri\\anaconda3\\envs\\DMML\\Lib\\site-packages\\numpy\\ma\\core.py:2881: RuntimeWarning: invalid value encountered in cast\n",
      "  _data = np.array(data, dtype=dtype, copy=copy,\n",
      "C:\\Users\\gabri\\anaconda3\\envs\\DMML\\Lib\\site-packages\\sklearn\\model_selection\\_search.py:1102: UserWarning: One or more of the test scores are non-finite: [nan nan nan ... nan nan nan]\n",
      "  warnings.warn(\n",
      "C:\\Users\\gabri\\anaconda3\\envs\\DMML\\Lib\\site-packages\\sklearn\\neighbors\\_classification.py:238: DataConversionWarning: A column-vector y was passed when a 1d array was expected. Please change the shape of y to (n_samples,), for example using ravel().\n",
      "  return self._fit(X, y)\n"
     ]
    },
    {
     "name": "stdout",
     "output_type": "stream",
     "text": [
      "Best Parameters for task_3: {'algorithm': 'auto', 'leaf_size': 10, 'metric': 'minkowski', 'metric_params': None, 'n_neighbors': 1, 'p': 1, 'weights': 'uniform'}\n",
      "Fitting 5 folds for each of 4800 candidates, totalling 24000 fits\n"
     ]
    },
    {
     "name": "stderr",
     "output_type": "stream",
     "text": [
      "C:\\Users\\gabri\\anaconda3\\envs\\DMML\\Lib\\site-packages\\numpy\\ma\\core.py:2881: RuntimeWarning: invalid value encountered in cast\n",
      "  _data = np.array(data, dtype=dtype, copy=copy,\n",
      "C:\\Users\\gabri\\anaconda3\\envs\\DMML\\Lib\\site-packages\\sklearn\\model_selection\\_search.py:1102: UserWarning: One or more of the test scores are non-finite: [nan nan nan ... nan nan nan]\n",
      "  warnings.warn(\n",
      "C:\\Users\\gabri\\anaconda3\\envs\\DMML\\Lib\\site-packages\\sklearn\\neighbors\\_classification.py:238: DataConversionWarning: A column-vector y was passed when a 1d array was expected. Please change the shape of y to (n_samples,), for example using ravel().\n",
      "  return self._fit(X, y)\n"
     ]
    },
    {
     "name": "stdout",
     "output_type": "stream",
     "text": [
      "Best Parameters for task_4: {'algorithm': 'auto', 'leaf_size': 10, 'metric': 'minkowski', 'metric_params': None, 'n_neighbors': 1, 'p': 1, 'weights': 'uniform'}\n",
      "Fitting 5 folds for each of 4800 candidates, totalling 24000 fits\n"
     ]
    },
    {
     "name": "stderr",
     "output_type": "stream",
     "text": [
      "C:\\Users\\gabri\\anaconda3\\envs\\DMML\\Lib\\site-packages\\numpy\\ma\\core.py:2881: RuntimeWarning: invalid value encountered in cast\n",
      "  _data = np.array(data, dtype=dtype, copy=copy,\n",
      "C:\\Users\\gabri\\anaconda3\\envs\\DMML\\Lib\\site-packages\\sklearn\\model_selection\\_search.py:1102: UserWarning: One or more of the test scores are non-finite: [nan nan nan ... nan nan nan]\n",
      "  warnings.warn(\n",
      "C:\\Users\\gabri\\anaconda3\\envs\\DMML\\Lib\\site-packages\\sklearn\\neighbors\\_classification.py:238: DataConversionWarning: A column-vector y was passed when a 1d array was expected. Please change the shape of y to (n_samples,), for example using ravel().\n",
      "  return self._fit(X, y)\n"
     ]
    },
    {
     "name": "stdout",
     "output_type": "stream",
     "text": [
      "Best Parameters for task_5: {'algorithm': 'auto', 'leaf_size': 10, 'metric': 'minkowski', 'metric_params': None, 'n_neighbors': 1, 'p': 1, 'weights': 'uniform'}\n",
      "Fitting 5 folds for each of 4800 candidates, totalling 24000 fits\n"
     ]
    },
    {
     "name": "stderr",
     "output_type": "stream",
     "text": [
      "C:\\Users\\gabri\\anaconda3\\envs\\DMML\\Lib\\site-packages\\sklearn\\model_selection\\_search.py:1102: UserWarning: One or more of the test scores are non-finite: [nan nan nan ... nan nan nan]\n",
      "  warnings.warn(\n",
      "C:\\Users\\gabri\\anaconda3\\envs\\DMML\\Lib\\site-packages\\sklearn\\neighbors\\_classification.py:238: DataConversionWarning: A column-vector y was passed when a 1d array was expected. Please change the shape of y to (n_samples,), for example using ravel().\n",
      "  return self._fit(X, y)\n"
     ]
    },
    {
     "name": "stdout",
     "output_type": "stream",
     "text": [
      "Best Parameters for task_6: {'algorithm': 'auto', 'leaf_size': 10, 'metric': 'minkowski', 'metric_params': None, 'n_neighbors': 1, 'p': 1, 'weights': 'uniform'}\n",
      "Fitting 5 folds for each of 4800 candidates, totalling 24000 fits\n"
     ]
    },
    {
     "name": "stderr",
     "output_type": "stream",
     "text": [
      "C:\\Users\\gabri\\anaconda3\\envs\\DMML\\Lib\\site-packages\\numpy\\ma\\core.py:2881: RuntimeWarning: invalid value encountered in cast\n",
      "  _data = np.array(data, dtype=dtype, copy=copy,\n",
      "C:\\Users\\gabri\\anaconda3\\envs\\DMML\\Lib\\site-packages\\sklearn\\model_selection\\_search.py:1102: UserWarning: One or more of the test scores are non-finite: [nan nan nan ... nan nan nan]\n",
      "  warnings.warn(\n",
      "C:\\Users\\gabri\\anaconda3\\envs\\DMML\\Lib\\site-packages\\sklearn\\neighbors\\_classification.py:238: DataConversionWarning: A column-vector y was passed when a 1d array was expected. Please change the shape of y to (n_samples,), for example using ravel().\n",
      "  return self._fit(X, y)\n"
     ]
    },
    {
     "name": "stdout",
     "output_type": "stream",
     "text": [
      "Best Parameters for task_7: {'algorithm': 'auto', 'leaf_size': 10, 'metric': 'minkowski', 'metric_params': None, 'n_neighbors': 1, 'p': 1, 'weights': 'uniform'}\n",
      "Fitting 5 folds for each of 4800 candidates, totalling 24000 fits\n"
     ]
    },
    {
     "name": "stderr",
     "output_type": "stream",
     "text": [
      "C:\\Users\\gabri\\anaconda3\\envs\\DMML\\Lib\\site-packages\\sklearn\\model_selection\\_search.py:1102: UserWarning: One or more of the test scores are non-finite: [nan nan nan ... nan nan nan]\n",
      "  warnings.warn(\n",
      "C:\\Users\\gabri\\anaconda3\\envs\\DMML\\Lib\\site-packages\\sklearn\\neighbors\\_classification.py:238: DataConversionWarning: A column-vector y was passed when a 1d array was expected. Please change the shape of y to (n_samples,), for example using ravel().\n",
      "  return self._fit(X, y)\n"
     ]
    },
    {
     "name": "stdout",
     "output_type": "stream",
     "text": [
      "Best Parameters for task_8: {'algorithm': 'auto', 'leaf_size': 10, 'metric': 'minkowski', 'metric_params': None, 'n_neighbors': 1, 'p': 1, 'weights': 'uniform'}\n",
      "Fitting 5 folds for each of 4800 candidates, totalling 24000 fits\n"
     ]
    },
    {
     "name": "stderr",
     "output_type": "stream",
     "text": [
      "C:\\Users\\gabri\\anaconda3\\envs\\DMML\\Lib\\site-packages\\sklearn\\model_selection\\_search.py:1102: UserWarning: One or more of the test scores are non-finite: [nan nan nan ... nan nan nan]\n",
      "  warnings.warn(\n",
      "C:\\Users\\gabri\\anaconda3\\envs\\DMML\\Lib\\site-packages\\sklearn\\neighbors\\_classification.py:238: DataConversionWarning: A column-vector y was passed when a 1d array was expected. Please change the shape of y to (n_samples,), for example using ravel().\n",
      "  return self._fit(X, y)\n"
     ]
    },
    {
     "name": "stdout",
     "output_type": "stream",
     "text": [
      "Best Parameters for task_9: {'algorithm': 'auto', 'leaf_size': 10, 'metric': 'minkowski', 'metric_params': None, 'n_neighbors': 1, 'p': 1, 'weights': 'uniform'}\n",
      "Fitting 5 folds for each of 4800 candidates, totalling 24000 fits\n"
     ]
    },
    {
     "name": "stderr",
     "output_type": "stream",
     "text": [
      "C:\\Users\\gabri\\anaconda3\\envs\\DMML\\Lib\\site-packages\\sklearn\\model_selection\\_search.py:1102: UserWarning: One or more of the test scores are non-finite: [nan nan nan ... nan nan nan]\n",
      "  warnings.warn(\n",
      "C:\\Users\\gabri\\anaconda3\\envs\\DMML\\Lib\\site-packages\\sklearn\\neighbors\\_classification.py:238: DataConversionWarning: A column-vector y was passed when a 1d array was expected. Please change the shape of y to (n_samples,), for example using ravel().\n",
      "  return self._fit(X, y)\n"
     ]
    },
    {
     "name": "stdout",
     "output_type": "stream",
     "text": [
      "Best Parameters for task_10: {'algorithm': 'auto', 'leaf_size': 10, 'metric': 'minkowski', 'metric_params': None, 'n_neighbors': 1, 'p': 1, 'weights': 'uniform'}\n",
      "Fitting 5 folds for each of 4800 candidates, totalling 24000 fits\n"
     ]
    },
    {
     "name": "stderr",
     "output_type": "stream",
     "text": [
      "C:\\Users\\gabri\\anaconda3\\envs\\DMML\\Lib\\site-packages\\sklearn\\model_selection\\_search.py:1102: UserWarning: One or more of the test scores are non-finite: [nan nan nan ... nan nan nan]\n",
      "  warnings.warn(\n",
      "C:\\Users\\gabri\\anaconda3\\envs\\DMML\\Lib\\site-packages\\sklearn\\neighbors\\_classification.py:238: DataConversionWarning: A column-vector y was passed when a 1d array was expected. Please change the shape of y to (n_samples,), for example using ravel().\n",
      "  return self._fit(X, y)\n"
     ]
    },
    {
     "name": "stdout",
     "output_type": "stream",
     "text": [
      "Best Parameters for task_11: {'algorithm': 'auto', 'leaf_size': 10, 'metric': 'minkowski', 'metric_params': None, 'n_neighbors': 1, 'p': 1, 'weights': 'uniform'}\n",
      "Fitting 5 folds for each of 4800 candidates, totalling 24000 fits\n"
     ]
    },
    {
     "name": "stderr",
     "output_type": "stream",
     "text": [
      "C:\\Users\\gabri\\anaconda3\\envs\\DMML\\Lib\\site-packages\\numpy\\ma\\core.py:2881: RuntimeWarning: invalid value encountered in cast\n",
      "  _data = np.array(data, dtype=dtype, copy=copy,\n",
      "C:\\Users\\gabri\\anaconda3\\envs\\DMML\\Lib\\site-packages\\sklearn\\model_selection\\_search.py:1102: UserWarning: One or more of the test scores are non-finite: [nan nan nan ... nan nan nan]\n",
      "  warnings.warn(\n",
      "C:\\Users\\gabri\\anaconda3\\envs\\DMML\\Lib\\site-packages\\sklearn\\neighbors\\_classification.py:238: DataConversionWarning: A column-vector y was passed when a 1d array was expected. Please change the shape of y to (n_samples,), for example using ravel().\n",
      "  return self._fit(X, y)\n"
     ]
    },
    {
     "name": "stdout",
     "output_type": "stream",
     "text": [
      "Best Parameters for task_12: {'algorithm': 'auto', 'leaf_size': 10, 'metric': 'minkowski', 'metric_params': None, 'n_neighbors': 1, 'p': 1, 'weights': 'uniform'}\n",
      "Fitting 5 folds for each of 4800 candidates, totalling 24000 fits\n"
     ]
    },
    {
     "name": "stderr",
     "output_type": "stream",
     "text": [
      "C:\\Users\\gabri\\anaconda3\\envs\\DMML\\Lib\\site-packages\\sklearn\\model_selection\\_search.py:1102: UserWarning: One or more of the test scores are non-finite: [nan nan nan ... nan nan nan]\n",
      "  warnings.warn(\n",
      "C:\\Users\\gabri\\anaconda3\\envs\\DMML\\Lib\\site-packages\\sklearn\\neighbors\\_classification.py:238: DataConversionWarning: A column-vector y was passed when a 1d array was expected. Please change the shape of y to (n_samples,), for example using ravel().\n",
      "  return self._fit(X, y)\n"
     ]
    },
    {
     "name": "stdout",
     "output_type": "stream",
     "text": [
      "Best Parameters for task_13: {'algorithm': 'auto', 'leaf_size': 10, 'metric': 'minkowski', 'metric_params': None, 'n_neighbors': 1, 'p': 1, 'weights': 'uniform'}\n",
      "Fitting 5 folds for each of 4800 candidates, totalling 24000 fits\n"
     ]
    },
    {
     "name": "stderr",
     "output_type": "stream",
     "text": [
      "C:\\Users\\gabri\\anaconda3\\envs\\DMML\\Lib\\site-packages\\numpy\\ma\\core.py:2881: RuntimeWarning: invalid value encountered in cast\n",
      "  _data = np.array(data, dtype=dtype, copy=copy,\n",
      "C:\\Users\\gabri\\anaconda3\\envs\\DMML\\Lib\\site-packages\\sklearn\\model_selection\\_search.py:1102: UserWarning: One or more of the test scores are non-finite: [nan nan nan ... nan nan nan]\n",
      "  warnings.warn(\n",
      "C:\\Users\\gabri\\anaconda3\\envs\\DMML\\Lib\\site-packages\\sklearn\\neighbors\\_classification.py:238: DataConversionWarning: A column-vector y was passed when a 1d array was expected. Please change the shape of y to (n_samples,), for example using ravel().\n",
      "  return self._fit(X, y)\n"
     ]
    },
    {
     "name": "stdout",
     "output_type": "stream",
     "text": [
      "Best Parameters for task_14: {'algorithm': 'auto', 'leaf_size': 10, 'metric': 'minkowski', 'metric_params': None, 'n_neighbors': 1, 'p': 1, 'weights': 'uniform'}\n",
      "Fitting 5 folds for each of 4800 candidates, totalling 24000 fits\n"
     ]
    },
    {
     "name": "stderr",
     "output_type": "stream",
     "text": [
      "C:\\Users\\gabri\\anaconda3\\envs\\DMML\\Lib\\site-packages\\sklearn\\model_selection\\_search.py:1102: UserWarning: One or more of the test scores are non-finite: [nan nan nan ... nan nan nan]\n",
      "  warnings.warn(\n",
      "C:\\Users\\gabri\\anaconda3\\envs\\DMML\\Lib\\site-packages\\sklearn\\neighbors\\_classification.py:238: DataConversionWarning: A column-vector y was passed when a 1d array was expected. Please change the shape of y to (n_samples,), for example using ravel().\n",
      "  return self._fit(X, y)\n"
     ]
    },
    {
     "name": "stdout",
     "output_type": "stream",
     "text": [
      "Best Parameters for task_15: {'algorithm': 'auto', 'leaf_size': 10, 'metric': 'minkowski', 'metric_params': None, 'n_neighbors': 1, 'p': 1, 'weights': 'uniform'}\n",
      "Fitting 5 folds for each of 4800 candidates, totalling 24000 fits\n"
     ]
    },
    {
     "name": "stderr",
     "output_type": "stream",
     "text": [
      "C:\\Users\\gabri\\anaconda3\\envs\\DMML\\Lib\\site-packages\\sklearn\\model_selection\\_search.py:1102: UserWarning: One or more of the test scores are non-finite: [nan nan nan ... nan nan nan]\n",
      "  warnings.warn(\n",
      "C:\\Users\\gabri\\anaconda3\\envs\\DMML\\Lib\\site-packages\\sklearn\\neighbors\\_classification.py:238: DataConversionWarning: A column-vector y was passed when a 1d array was expected. Please change the shape of y to (n_samples,), for example using ravel().\n",
      "  return self._fit(X, y)\n"
     ]
    },
    {
     "name": "stdout",
     "output_type": "stream",
     "text": [
      "Best Parameters for task_16: {'algorithm': 'auto', 'leaf_size': 10, 'metric': 'minkowski', 'metric_params': None, 'n_neighbors': 1, 'p': 1, 'weights': 'uniform'}\n",
      "Fitting 5 folds for each of 4800 candidates, totalling 24000 fits\n"
     ]
    },
    {
     "name": "stderr",
     "output_type": "stream",
     "text": [
      "C:\\Users\\gabri\\anaconda3\\envs\\DMML\\Lib\\site-packages\\sklearn\\model_selection\\_search.py:1102: UserWarning: One or more of the test scores are non-finite: [nan nan nan ... nan nan nan]\n",
      "  warnings.warn(\n",
      "C:\\Users\\gabri\\anaconda3\\envs\\DMML\\Lib\\site-packages\\sklearn\\neighbors\\_classification.py:238: DataConversionWarning: A column-vector y was passed when a 1d array was expected. Please change the shape of y to (n_samples,), for example using ravel().\n",
      "  return self._fit(X, y)\n"
     ]
    },
    {
     "name": "stdout",
     "output_type": "stream",
     "text": [
      "Best Parameters for task_17: {'algorithm': 'auto', 'leaf_size': 10, 'metric': 'minkowski', 'metric_params': None, 'n_neighbors': 1, 'p': 1, 'weights': 'uniform'}\n",
      "Fitting 5 folds for each of 4800 candidates, totalling 24000 fits\n"
     ]
    },
    {
     "name": "stderr",
     "output_type": "stream",
     "text": [
      "C:\\Users\\gabri\\anaconda3\\envs\\DMML\\Lib\\site-packages\\numpy\\ma\\core.py:2881: RuntimeWarning: invalid value encountered in cast\n",
      "  _data = np.array(data, dtype=dtype, copy=copy,\n",
      "C:\\Users\\gabri\\anaconda3\\envs\\DMML\\Lib\\site-packages\\sklearn\\model_selection\\_search.py:1102: UserWarning: One or more of the test scores are non-finite: [nan nan nan ... nan nan nan]\n",
      "  warnings.warn(\n",
      "C:\\Users\\gabri\\anaconda3\\envs\\DMML\\Lib\\site-packages\\sklearn\\neighbors\\_classification.py:238: DataConversionWarning: A column-vector y was passed when a 1d array was expected. Please change the shape of y to (n_samples,), for example using ravel().\n",
      "  return self._fit(X, y)\n"
     ]
    },
    {
     "name": "stdout",
     "output_type": "stream",
     "text": [
      "Best Parameters for task_18: {'algorithm': 'auto', 'leaf_size': 10, 'metric': 'minkowski', 'metric_params': None, 'n_neighbors': 1, 'p': 1, 'weights': 'uniform'}\n",
      "Fitting 5 folds for each of 4800 candidates, totalling 24000 fits\n"
     ]
    },
    {
     "name": "stderr",
     "output_type": "stream",
     "text": [
      "C:\\Users\\gabri\\anaconda3\\envs\\DMML\\Lib\\site-packages\\numpy\\ma\\core.py:2881: RuntimeWarning: invalid value encountered in cast\n",
      "  _data = np.array(data, dtype=dtype, copy=copy,\n",
      "C:\\Users\\gabri\\anaconda3\\envs\\DMML\\Lib\\site-packages\\sklearn\\model_selection\\_search.py:1102: UserWarning: One or more of the test scores are non-finite: [nan nan nan ... nan nan nan]\n",
      "  warnings.warn(\n",
      "C:\\Users\\gabri\\anaconda3\\envs\\DMML\\Lib\\site-packages\\sklearn\\neighbors\\_classification.py:238: DataConversionWarning: A column-vector y was passed when a 1d array was expected. Please change the shape of y to (n_samples,), for example using ravel().\n",
      "  return self._fit(X, y)\n"
     ]
    },
    {
     "name": "stdout",
     "output_type": "stream",
     "text": [
      "Best Parameters for task_19: {'algorithm': 'auto', 'leaf_size': 10, 'metric': 'minkowski', 'metric_params': None, 'n_neighbors': 1, 'p': 1, 'weights': 'uniform'}\n",
      "Fitting 5 folds for each of 4800 candidates, totalling 24000 fits\n"
     ]
    },
    {
     "name": "stderr",
     "output_type": "stream",
     "text": [
      "C:\\Users\\gabri\\anaconda3\\envs\\DMML\\Lib\\site-packages\\sklearn\\model_selection\\_search.py:1102: UserWarning: One or more of the test scores are non-finite: [nan nan nan ... nan nan nan]\n",
      "  warnings.warn(\n",
      "C:\\Users\\gabri\\anaconda3\\envs\\DMML\\Lib\\site-packages\\sklearn\\neighbors\\_classification.py:238: DataConversionWarning: A column-vector y was passed when a 1d array was expected. Please change the shape of y to (n_samples,), for example using ravel().\n",
      "  return self._fit(X, y)\n"
     ]
    },
    {
     "name": "stdout",
     "output_type": "stream",
     "text": [
      "Best Parameters for task_20: {'algorithm': 'auto', 'leaf_size': 10, 'metric': 'minkowski', 'metric_params': None, 'n_neighbors': 1, 'p': 1, 'weights': 'uniform'}\n",
      "Fitting 5 folds for each of 4800 candidates, totalling 24000 fits\n"
     ]
    },
    {
     "name": "stderr",
     "output_type": "stream",
     "text": [
      "C:\\Users\\gabri\\anaconda3\\envs\\DMML\\Lib\\site-packages\\numpy\\ma\\core.py:2881: RuntimeWarning: invalid value encountered in cast\n",
      "  _data = np.array(data, dtype=dtype, copy=copy,\n",
      "C:\\Users\\gabri\\anaconda3\\envs\\DMML\\Lib\\site-packages\\sklearn\\model_selection\\_search.py:1102: UserWarning: One or more of the test scores are non-finite: [nan nan nan ... nan nan nan]\n",
      "  warnings.warn(\n",
      "C:\\Users\\gabri\\anaconda3\\envs\\DMML\\Lib\\site-packages\\sklearn\\neighbors\\_classification.py:238: DataConversionWarning: A column-vector y was passed when a 1d array was expected. Please change the shape of y to (n_samples,), for example using ravel().\n",
      "  return self._fit(X, y)\n"
     ]
    },
    {
     "name": "stdout",
     "output_type": "stream",
     "text": [
      "Best Parameters for task_21: {'algorithm': 'auto', 'leaf_size': 10, 'metric': 'minkowski', 'metric_params': None, 'n_neighbors': 1, 'p': 1, 'weights': 'uniform'}\n",
      "Fitting 5 folds for each of 4800 candidates, totalling 24000 fits\n"
     ]
    },
    {
     "name": "stderr",
     "output_type": "stream",
     "text": [
      "C:\\Users\\gabri\\anaconda3\\envs\\DMML\\Lib\\site-packages\\numpy\\ma\\core.py:2881: RuntimeWarning: invalid value encountered in cast\n",
      "  _data = np.array(data, dtype=dtype, copy=copy,\n",
      "C:\\Users\\gabri\\anaconda3\\envs\\DMML\\Lib\\site-packages\\sklearn\\model_selection\\_search.py:1102: UserWarning: One or more of the test scores are non-finite: [nan nan nan ... nan nan nan]\n",
      "  warnings.warn(\n",
      "C:\\Users\\gabri\\anaconda3\\envs\\DMML\\Lib\\site-packages\\sklearn\\neighbors\\_classification.py:238: DataConversionWarning: A column-vector y was passed when a 1d array was expected. Please change the shape of y to (n_samples,), for example using ravel().\n",
      "  return self._fit(X, y)\n"
     ]
    },
    {
     "name": "stdout",
     "output_type": "stream",
     "text": [
      "Best Parameters for task_22: {'algorithm': 'auto', 'leaf_size': 10, 'metric': 'minkowski', 'metric_params': None, 'n_neighbors': 1, 'p': 1, 'weights': 'uniform'}\n",
      "Fitting 5 folds for each of 4800 candidates, totalling 24000 fits\n"
     ]
    },
    {
     "name": "stderr",
     "output_type": "stream",
     "text": [
      "C:\\Users\\gabri\\anaconda3\\envs\\DMML\\Lib\\site-packages\\numpy\\ma\\core.py:2881: RuntimeWarning: invalid value encountered in cast\n",
      "  _data = np.array(data, dtype=dtype, copy=copy,\n",
      "C:\\Users\\gabri\\anaconda3\\envs\\DMML\\Lib\\site-packages\\sklearn\\model_selection\\_search.py:1102: UserWarning: One or more of the test scores are non-finite: [nan nan nan ... nan nan nan]\n",
      "  warnings.warn(\n",
      "C:\\Users\\gabri\\anaconda3\\envs\\DMML\\Lib\\site-packages\\sklearn\\neighbors\\_classification.py:238: DataConversionWarning: A column-vector y was passed when a 1d array was expected. Please change the shape of y to (n_samples,), for example using ravel().\n",
      "  return self._fit(X, y)\n"
     ]
    },
    {
     "name": "stdout",
     "output_type": "stream",
     "text": [
      "Best Parameters for task_23: {'algorithm': 'auto', 'leaf_size': 10, 'metric': 'minkowski', 'metric_params': None, 'n_neighbors': 1, 'p': 1, 'weights': 'uniform'}\n",
      "Fitting 5 folds for each of 4800 candidates, totalling 24000 fits\n"
     ]
    },
    {
     "name": "stderr",
     "output_type": "stream",
     "text": [
      "C:\\Users\\gabri\\anaconda3\\envs\\DMML\\Lib\\site-packages\\sklearn\\model_selection\\_search.py:1102: UserWarning: One or more of the test scores are non-finite: [nan nan nan ... nan nan nan]\n",
      "  warnings.warn(\n",
      "C:\\Users\\gabri\\anaconda3\\envs\\DMML\\Lib\\site-packages\\sklearn\\neighbors\\_classification.py:238: DataConversionWarning: A column-vector y was passed when a 1d array was expected. Please change the shape of y to (n_samples,), for example using ravel().\n",
      "  return self._fit(X, y)\n"
     ]
    },
    {
     "name": "stdout",
     "output_type": "stream",
     "text": [
      "Best Parameters for task_24: {'algorithm': 'auto', 'leaf_size': 10, 'metric': 'minkowski', 'metric_params': None, 'n_neighbors': 1, 'p': 1, 'weights': 'uniform'}\n",
      "Fitting 5 folds for each of 4800 candidates, totalling 24000 fits\n",
      "Best Parameters for task_25: {'algorithm': 'auto', 'leaf_size': 10, 'metric': 'minkowski', 'metric_params': None, 'n_neighbors': 1, 'p': 1, 'weights': 'uniform'}\n"
     ]
    },
    {
     "name": "stderr",
     "output_type": "stream",
     "text": [
      "C:\\Users\\gabri\\anaconda3\\envs\\DMML\\Lib\\site-packages\\sklearn\\model_selection\\_search.py:1102: UserWarning: One or more of the test scores are non-finite: [nan nan nan ... nan nan nan]\n",
      "  warnings.warn(\n",
      "C:\\Users\\gabri\\anaconda3\\envs\\DMML\\Lib\\site-packages\\sklearn\\neighbors\\_classification.py:238: DataConversionWarning: A column-vector y was passed when a 1d array was expected. Please change the shape of y to (n_samples,), for example using ravel().\n",
      "  return self._fit(X, y)\n"
     ]
    }
   ],
   "source": [
    "'''\n",
    "Grid search kNN\n",
    "'''\n",
    " \n",
    "from sklearn.model_selection import GridSearchCV, train_test_split\n",
    "from sklearn.neighbors import KNeighborsClassifier\n",
    "from sklearn.metrics import accuracy_score, precision_score, recall_score, f1_score, confusion_matrix\n",
    " \n",
    "# Define the parameter grid for KNeighborsClassifier\n",
    "param_grid = {\n",
    "   'n_neighbors': list(range(1, 21)),  # Number of neighbors to consider\n",
    "   'weights': ['uniform', 'distance'],  # Weight function used in prediction\n",
    "   'algorithm': ['auto', 'ball_tree', 'kd_tree', 'brute'],  # Algorithm for computing nearest neighbors\n",
    "   'leaf_size': [10, 20, 30, 40, 50],  # Leaf size for BallTree or KDTree\n",
    "   'p': [1, 2],  # Power parameter for Minkowski distance\n",
    "   'metric': ['minkowski', 'euclidean', 'manhattan'],  # Distance metric\n",
    "   'metric_params': [None]  # Additional keyword arguments for the metric function\n",
    "}\n",
    " \n",
    "# Dictionary to store the best parameters for each task\n",
    "best_params_per_task = {}\n",
    " \n",
    "# Iterate through tasks\n",
    "for task, task_df in task_dfs.items():\n",
    "   X_task = task_df\n",
    "   y_task = task_labels[task]\n",
    "  \n",
    "   # Split the data\n",
    "   X_train, X_test, y_train, y_test = train_test_split(X_task, y_task, test_size=0.2, random_state=42, stratify=y_task)\n",
    "  \n",
    "   # Initialize kNN\n",
    "   knn = KNeighborsClassifier()\n",
    "  \n",
    "   # Grid Search\n",
    "   grid_search = GridSearchCV(estimator=knn, param_grid=param_grid, cv=5, n_jobs=-1, verbose=1, scoring='f1')\n",
    "   grid_search.fit(X_train, y_train)\n",
    "  \n",
    "   # Store the best parameters for this task\n",
    "   best_params_per_task[task] = grid_search.best_params_\n",
    " \n",
    "   print(f\"Best Parameters for {task}: {grid_search.best_params_}\")"
   ]
  },
  {
   "cell_type": "markdown",
   "id": "cea11e56-b12a-42c7-9f4d-38aa5f3b0837",
   "metadata": {},
   "source": [
    "## The results given by the grid-search show that the optimal parameters are identical for each of the 25 tasks:\n",
    "\n",
    "**best_parameters: {'algorithm': 'auto', \n",
    "                    'leaf_size': 10, \n",
    "                    'metric': 'minkowski', \n",
    "                    'metric_params': None, \n",
    "                    'n_neighbors': 1, \n",
    "                    'p': 1, \n",
    "                    'weights': 'uniform'}**"
   ]
  },
  {
   "cell_type": "markdown",
   "id": "b1fadb0c-f35b-4e05-8e24-877cc7b4a4c3",
   "metadata": {},
   "source": [
    "## Performance Evaluation of KNN classifier, using the 20 runs method"
   ]
  },
  {
   "cell_type": "code",
   "execution_count": 3,
   "id": "0b13cf28-cd17-478f-8d46-b8aeac1581b4",
   "metadata": {},
   "outputs": [
    {
     "name": "stdout",
     "output_type": "stream",
     "text": [
      "Performance Metrics for task_1:\n",
      "Mean Accuracy: 0.6214\n",
      "Mean Precision: 0.6524\n",
      "Mean Recall: 0.5861\n",
      "Mean F1 Score: 0.6111\n",
      "Mean Sensitivity: 0.5861\n",
      "Mean Specificity: 0.6588\n",
      "\n",
      "\n",
      "Performance Metrics for task_2:\n",
      "Mean Accuracy: 0.5871\n",
      "Mean Precision: 0.6003\n",
      "Mean Recall: 0.6000\n",
      "Mean F1 Score: 0.5975\n",
      "Mean Sensitivity: 0.6000\n",
      "Mean Specificity: 0.5735\n",
      "\n",
      "\n",
      "Performance Metrics for task_3:\n",
      "Mean Accuracy: 0.6571\n",
      "Mean Precision: 0.6943\n",
      "Mean Recall: 0.6194\n",
      "Mean F1 Score: 0.6487\n",
      "Mean Sensitivity: 0.6194\n",
      "Mean Specificity: 0.6971\n",
      "\n",
      "\n",
      "Performance Metrics for task_4:\n",
      "Mean Accuracy: 0.5929\n",
      "Mean Precision: 0.5999\n",
      "Mean Recall: 0.6194\n",
      "Mean F1 Score: 0.6058\n",
      "Mean Sensitivity: 0.6194\n",
      "Mean Specificity: 0.5647\n",
      "\n",
      "\n",
      "Performance Metrics for task_5:\n",
      "Mean Accuracy: 0.5600\n",
      "Mean Precision: 0.5864\n",
      "Mean Recall: 0.5028\n",
      "Mean F1 Score: 0.5382\n",
      "Mean Sensitivity: 0.5028\n",
      "Mean Specificity: 0.6206\n",
      "\n",
      "\n",
      "Performance Metrics for task_6:\n",
      "Mean Accuracy: 0.6329\n",
      "Mean Precision: 0.6635\n",
      "Mean Recall: 0.5972\n",
      "Mean F1 Score: 0.6240\n",
      "Mean Sensitivity: 0.5972\n",
      "Mean Specificity: 0.6706\n",
      "\n",
      "\n",
      "Performance Metrics for task_7:\n",
      "Mean Accuracy: 0.6629\n",
      "Mean Precision: 0.6858\n",
      "Mean Recall: 0.6444\n",
      "Mean F1 Score: 0.6615\n",
      "Mean Sensitivity: 0.6444\n",
      "Mean Specificity: 0.6824\n",
      "\n",
      "\n",
      "Performance Metrics for task_8:\n",
      "Mean Accuracy: 0.6043\n",
      "Mean Precision: 0.6383\n",
      "Mean Recall: 0.5556\n",
      "Mean F1 Score: 0.5876\n",
      "Mean Sensitivity: 0.5556\n",
      "Mean Specificity: 0.6559\n",
      "\n",
      "\n",
      "Performance Metrics for task_9:\n",
      "Mean Accuracy: 0.7186\n",
      "Mean Precision: 0.7459\n",
      "Mean Recall: 0.6889\n",
      "Mean F1 Score: 0.7146\n",
      "Mean Sensitivity: 0.6889\n",
      "Mean Specificity: 0.7500\n",
      "\n",
      "\n",
      "Performance Metrics for task_10:\n",
      "Mean Accuracy: 0.6200\n",
      "Mean Precision: 0.6444\n",
      "Mean Recall: 0.6000\n",
      "Mean F1 Score: 0.6162\n",
      "Mean Sensitivity: 0.6000\n",
      "Mean Specificity: 0.6412\n",
      "\n",
      "\n",
      "Performance Metrics for task_11:\n",
      "Mean Accuracy: 0.6286\n",
      "Mean Precision: 0.6403\n",
      "Mean Recall: 0.6583\n",
      "Mean F1 Score: 0.6452\n",
      "Mean Sensitivity: 0.6583\n",
      "Mean Specificity: 0.5971\n",
      "\n",
      "\n",
      "Performance Metrics for task_12:\n",
      "Mean Accuracy: 0.6443\n",
      "Mean Precision: 0.6759\n",
      "Mean Recall: 0.6028\n",
      "Mean F1 Score: 0.6311\n",
      "Mean Sensitivity: 0.6028\n",
      "Mean Specificity: 0.6882\n",
      "\n",
      "\n",
      "Performance Metrics for task_13:\n",
      "Mean Accuracy: 0.5500\n",
      "Mean Precision: 0.5680\n",
      "Mean Recall: 0.5306\n",
      "Mean F1 Score: 0.5439\n",
      "Mean Sensitivity: 0.5306\n",
      "Mean Specificity: 0.5706\n",
      "\n",
      "\n",
      "Performance Metrics for task_14:\n",
      "Mean Accuracy: 0.6586\n",
      "Mean Precision: 0.6823\n",
      "Mean Recall: 0.6389\n",
      "Mean F1 Score: 0.6564\n",
      "Mean Sensitivity: 0.6389\n",
      "Mean Specificity: 0.6794\n",
      "\n",
      "\n",
      "Performance Metrics for task_15:\n",
      "Mean Accuracy: 0.7057\n",
      "Mean Precision: 0.7357\n",
      "Mean Recall: 0.6861\n",
      "Mean F1 Score: 0.7051\n",
      "Mean Sensitivity: 0.6861\n",
      "Mean Specificity: 0.7265\n",
      "\n",
      "\n",
      "Performance Metrics for task_16:\n",
      "Mean Accuracy: 0.6186\n",
      "Mean Precision: 0.6349\n",
      "Mean Recall: 0.6056\n",
      "Mean F1 Score: 0.6167\n",
      "Mean Sensitivity: 0.6056\n",
      "Mean Specificity: 0.6324\n",
      "\n",
      "\n",
      "Performance Metrics for task_17:\n",
      "Mean Accuracy: 0.7214\n",
      "Mean Precision: 0.7363\n",
      "Mean Recall: 0.7167\n",
      "Mean F1 Score: 0.7242\n",
      "Mean Sensitivity: 0.7167\n",
      "Mean Specificity: 0.7265\n",
      "\n",
      "\n",
      "Performance Metrics for task_18:\n",
      "Mean Accuracy: 0.6100\n",
      "Mean Precision: 0.6516\n",
      "Mean Recall: 0.5528\n",
      "Mean F1 Score: 0.5919\n",
      "Mean Sensitivity: 0.5528\n",
      "Mean Specificity: 0.6706\n",
      "\n",
      "\n",
      "Performance Metrics for task_19:\n",
      "Mean Accuracy: 0.7571\n",
      "Mean Precision: 0.8004\n",
      "Mean Recall: 0.7167\n",
      "Mean F1 Score: 0.7505\n",
      "Mean Sensitivity: 0.7167\n",
      "Mean Specificity: 0.8000\n",
      "\n",
      "\n",
      "Performance Metrics for task_20:\n",
      "Mean Accuracy: 0.6471\n",
      "Mean Precision: 0.7177\n",
      "Mean Recall: 0.5333\n",
      "Mean F1 Score: 0.6064\n",
      "Mean Sensitivity: 0.5333\n",
      "Mean Specificity: 0.7676\n",
      "\n",
      "\n",
      "Performance Metrics for task_21:\n",
      "Mean Accuracy: 0.6229\n",
      "Mean Precision: 0.6495\n",
      "Mean Recall: 0.5778\n",
      "Mean F1 Score: 0.6089\n",
      "Mean Sensitivity: 0.5778\n",
      "Mean Specificity: 0.6706\n",
      "\n",
      "\n",
      "Performance Metrics for task_22:\n",
      "Mean Accuracy: 0.6929\n",
      "Mean Precision: 0.7142\n",
      "Mean Recall: 0.6778\n",
      "Mean F1 Score: 0.6923\n",
      "Mean Sensitivity: 0.6778\n",
      "Mean Specificity: 0.7088\n",
      "\n",
      "\n",
      "Performance Metrics for task_23:\n",
      "Mean Accuracy: 0.6971\n",
      "Mean Precision: 0.7322\n",
      "Mean Recall: 0.6694\n",
      "Mean F1 Score: 0.6919\n",
      "Mean Sensitivity: 0.6694\n",
      "Mean Specificity: 0.7265\n",
      "\n",
      "\n",
      "Performance Metrics for task_24:\n",
      "Mean Accuracy: 0.5671\n",
      "Mean Precision: 0.5792\n",
      "Mean Recall: 0.5861\n",
      "Mean F1 Score: 0.5803\n",
      "Mean Sensitivity: 0.5861\n",
      "Mean Specificity: 0.5471\n",
      "\n",
      "\n",
      "Performance Metrics for task_25:\n",
      "Mean Accuracy: 0.6414\n",
      "Mean Precision: 0.6549\n",
      "Mean Recall: 0.6444\n",
      "Mean F1 Score: 0.6481\n",
      "Mean Sensitivity: 0.6444\n",
      "Mean Specificity: 0.6382\n",
      "\n",
      "\n"
     ]
    }
   ],
   "source": [
    "'''\n",
    "Performance evaluation kNN, 20 run method\n",
    "'''\n",
    " \n",
    "import numpy as np\n",
    "from sklearn.model_selection import GridSearchCV, train_test_split\n",
    "from sklearn.neighbors import KNeighborsClassifier\n",
    "from sklearn.metrics import accuracy_score, precision_score, recall_score, f1_score, confusion_matrix\n",
    " \n",
    "# Number of runs\n",
    "n_runs = 20\n",
    " \n",
    "# Dictionary to store performance metrics for each task\n",
    "performance_metrics = {}\n",
    "\n",
    " \n",
    "# Iterate through tasks\n",
    "for task, task_df in task_dfs.items():\n",
    "   X_task = task_df\n",
    "   y_task = task_labels[task]\n",
    "  \n",
    "  \n",
    "   accuracies = []\n",
    "   precisions = []\n",
    "   recalls = []\n",
    "   f1_scores = []\n",
    "   sensitivities = []\n",
    "   specificities = []\n",
    " \n",
    "   for run in range(n_runs):\n",
    "       # Split the data\n",
    "       X_train, X_test, y_train, y_test = train_test_split(X_task, y_task, test_size=0.2, random_state=None, stratify=y_task)\n",
    "      \n",
    "       # Create classifier with best parameters (computed during grid-search)\n",
    "       clf = KNeighborsClassifier(\n",
    "          n_neighbors=1,\n",
    "           weights='uniform',\n",
    "           algorithm='auto',\n",
    "           leaf_size=10,\n",
    "           p=1,\n",
    "           metric='minkowski',\n",
    "          metric_params=None\n",
    "       )\n",
    "\n",
    "       y_train = y_train.values.ravel()\n",
    "       y_test = y_test.values.ravel()\n",
    "      \n",
    "       # Train the model\n",
    "       clf.fit(X_train, y_train)\n",
    "      \n",
    "       # Predict on test data\n",
    "       y_pred = clf.predict(X_test)\n",
    "      \n",
    "       # Calculate metrics\n",
    "       accuracy = accuracy_score(y_test, y_pred)\n",
    "       precision = precision_score(y_test, y_pred, pos_label='P')\n",
    "       recall = recall_score(y_test, y_pred, pos_label='P')\n",
    "       f1 = f1_score(y_test, y_pred, pos_label='P')\n",
    "      \n",
    "       # Compute confusion matrix\n",
    "       cm = confusion_matrix(y_test, y_pred, labels=['H', 'P'])\n",
    "      \n",
    "       # Ensure cm has the correct shape for binary classification\n",
    "       if cm.size == 4:\n",
    "           TN, FP, FN, TP = cm.ravel()  # Assumes binary classification\n",
    "           # Calculate sensitivity and specificity\n",
    "           sensitivity = TP / (TP + FN) if (TP + FN) != 0 else 0\n",
    "           specificity = TN / (TN + FP) if (TN + FP) != 0 else 0\n",
    "       else:\n",
    "           # In case of non-binary classification or unexpected confusion matrix size\n",
    "           sensitivity = 0\n",
    "           specificity = 0\n",
    "      \n",
    "       # Append metrics\n",
    "       accuracies.append(accuracy)\n",
    "       precisions.append(precision)\n",
    "       recalls.append(recall)\n",
    "       f1_scores.append(f1)\n",
    "       sensitivities.append(sensitivity)\n",
    "       specificities.append(specificity)\n",
    "  \n",
    "   # Calculate average metrics\n",
    "   performance_metrics[task] = {\n",
    "       'mean_accuracy': np.mean(accuracies),\n",
    "       'mean_precision': np.mean(precisions),\n",
    "       'mean_recall': np.mean(recalls),\n",
    "       'mean_f1_score': np.mean(f1_scores),\n",
    "       'mean_sensitivity': np.mean(sensitivities),\n",
    "       'mean_specificity': np.mean(specificities)\n",
    "   }\n",
    " \n",
    "   print(f\"Performance Metrics for {task}:\")\n",
    "   print(f\"Mean Accuracy: {performance_metrics[task]['mean_accuracy']:.4f}\")\n",
    "   print(f\"Mean Precision: {performance_metrics[task]['mean_precision']:.4f}\")\n",
    "   print(f\"Mean Recall: {performance_metrics[task]['mean_recall']:.4f}\")\n",
    "   print(f\"Mean F1 Score: {performance_metrics[task]['mean_f1_score']:.4f}\")\n",
    "   print(f\"Mean Sensitivity: {performance_metrics[task]['mean_sensitivity']:.4f}\")\n",
    "   print(f\"Mean Specificity: {performance_metrics[task]['mean_specificity']:.4f}\")\n",
    "   print(\"\\n\")"
   ]
  },
  {
   "cell_type": "markdown",
   "id": "f2171d74-41e5-4f0f-b954-65edd90ecd9f",
   "metadata": {},
   "source": [
    "## Performance Evaluation of the KNN classifier, using the k-fold cross-validation method"
   ]
  },
  {
   "cell_type": "code",
   "execution_count": 4,
   "id": "dc9ef799-c7bc-4454-97a8-0c0dbe2ba557",
   "metadata": {},
   "outputs": [
    {
     "name": "stdout",
     "output_type": "stream",
     "text": [
      "Performance Metrics for task_1:\n",
      "Mean Accuracy: 0.5345\n",
      "Mean Precision: 0.5481\n",
      "Mean Recall: 0.5172\n",
      "Mean F1 Score: 0.5279\n",
      "Mean Sensitivity: 0.5172\n",
      "Mean Specificity: 0.5546\n",
      "\n",
      "\n",
      "Performance Metrics for task_2:\n",
      "Mean Accuracy: 0.5978\n",
      "Mean Precision: 0.5984\n",
      "Mean Recall: 0.6237\n",
      "Mean F1 Score: 0.6062\n",
      "Mean Sensitivity: 0.6237\n",
      "Mean Specificity: 0.5587\n",
      "\n",
      "\n",
      "Performance Metrics for task_3:\n",
      "Mean Accuracy: 0.6370\n",
      "Mean Precision: 0.6718\n",
      "Mean Recall: 0.6408\n",
      "Mean F1 Score: 0.6402\n",
      "Mean Sensitivity: 0.6408\n",
      "Mean Specificity: 0.6220\n",
      "\n",
      "\n",
      "Performance Metrics for task_4:\n",
      "Mean Accuracy: 0.5175\n",
      "Mean Precision: 0.5381\n",
      "Mean Recall: 0.5165\n",
      "Mean F1 Score: 0.5147\n",
      "Mean Sensitivity: 0.5165\n",
      "Mean Specificity: 0.5405\n",
      "\n",
      "\n",
      "Performance Metrics for task_5:\n",
      "Mean Accuracy: 0.5571\n",
      "Mean Precision: 0.6010\n",
      "Mean Recall: 0.4864\n",
      "Mean F1 Score: 0.5182\n",
      "Mean Sensitivity: 0.4864\n",
      "Mean Specificity: 0.6493\n",
      "\n",
      "\n",
      "Performance Metrics for task_6:\n",
      "Mean Accuracy: 0.6491\n",
      "Mean Precision: 0.6703\n",
      "Mean Recall: 0.6304\n",
      "Mean F1 Score: 0.6442\n",
      "Mean Sensitivity: 0.6304\n",
      "Mean Specificity: 0.6695\n",
      "\n",
      "\n",
      "Performance Metrics for task_7:\n",
      "Mean Accuracy: 0.6491\n",
      "Mean Precision: 0.6599\n",
      "Mean Recall: 0.6412\n",
      "Mean F1 Score: 0.6381\n",
      "Mean Sensitivity: 0.6412\n",
      "Mean Specificity: 0.6740\n",
      "\n",
      "\n",
      "Performance Metrics for task_8:\n",
      "Mean Accuracy: 0.6094\n",
      "Mean Precision: 0.6416\n",
      "Mean Recall: 0.5882\n",
      "Mean F1 Score: 0.5889\n",
      "Mean Sensitivity: 0.5882\n",
      "Mean Specificity: 0.6808\n",
      "\n",
      "\n",
      "Performance Metrics for task_9:\n",
      "Mean Accuracy: 0.6955\n",
      "Mean Precision: 0.7386\n",
      "Mean Recall: 0.6442\n",
      "Mean F1 Score: 0.6780\n",
      "Mean Sensitivity: 0.6442\n",
      "Mean Specificity: 0.7637\n",
      "\n",
      "\n",
      "Performance Metrics for task_10:\n",
      "Mean Accuracy: 0.6439\n",
      "Mean Precision: 0.6637\n",
      "Mean Recall: 0.6187\n",
      "Mean F1 Score: 0.6318\n",
      "Mean Sensitivity: 0.6187\n",
      "Mean Specificity: 0.6767\n",
      "\n",
      "\n",
      "Performance Metrics for task_11:\n",
      "Mean Accuracy: 0.6382\n",
      "Mean Precision: 0.6337\n",
      "Mean Recall: 0.6814\n",
      "Mean F1 Score: 0.6476\n",
      "Mean Sensitivity: 0.6814\n",
      "Mean Specificity: 0.6082\n",
      "\n",
      "\n",
      "Performance Metrics for task_12:\n",
      "Mean Accuracy: 0.6608\n",
      "Mean Precision: 0.6758\n",
      "Mean Recall: 0.6743\n",
      "Mean F1 Score: 0.6647\n",
      "Mean Sensitivity: 0.6743\n",
      "Mean Specificity: 0.6619\n",
      "\n",
      "\n",
      "Performance Metrics for task_13:\n",
      "Mean Accuracy: 0.5461\n",
      "Mean Precision: 0.5689\n",
      "Mean Recall: 0.4841\n",
      "Mean F1 Score: 0.5125\n",
      "Mean Sensitivity: 0.4841\n",
      "Mean Specificity: 0.6068\n",
      "\n",
      "\n",
      "Performance Metrics for task_14:\n",
      "Mean Accuracy: 0.6440\n",
      "Mean Precision: 0.6894\n",
      "Mean Recall: 0.6093\n",
      "Mean F1 Score: 0.6353\n",
      "Mean Sensitivity: 0.6093\n",
      "Mean Specificity: 0.7053\n",
      "\n",
      "\n",
      "Performance Metrics for task_15:\n",
      "Mean Accuracy: 0.6956\n",
      "Mean Precision: 0.7336\n",
      "Mean Recall: 0.6708\n",
      "Mean F1 Score: 0.6860\n",
      "Mean Sensitivity: 0.6708\n",
      "Mean Specificity: 0.7507\n",
      "\n",
      "\n",
      "Performance Metrics for task_16:\n",
      "Mean Accuracy: 0.6501\n",
      "Mean Precision: 0.6690\n",
      "Mean Recall: 0.6585\n",
      "Mean F1 Score: 0.6573\n",
      "Mean Sensitivity: 0.6585\n",
      "Mean Specificity: 0.6457\n",
      "\n",
      "\n",
      "Performance Metrics for task_17:\n",
      "Mean Accuracy: 0.7356\n",
      "Mean Precision: 0.7567\n",
      "Mean Recall: 0.7433\n",
      "Mean F1 Score: 0.7384\n",
      "Mean Sensitivity: 0.7433\n",
      "Mean Specificity: 0.7406\n",
      "\n",
      "\n",
      "Performance Metrics for task_18:\n",
      "Mean Accuracy: 0.6097\n",
      "Mean Precision: 0.6564\n",
      "Mean Recall: 0.5519\n",
      "Mean F1 Score: 0.5905\n",
      "Mean Sensitivity: 0.5519\n",
      "Mean Specificity: 0.6824\n",
      "\n",
      "\n",
      "Performance Metrics for task_19:\n",
      "Mean Accuracy: 0.7992\n",
      "Mean Precision: 0.8326\n",
      "Mean Recall: 0.7679\n",
      "Mean F1 Score: 0.7918\n",
      "Mean Sensitivity: 0.7679\n",
      "Mean Specificity: 0.8492\n",
      "\n",
      "\n",
      "Performance Metrics for task_20:\n",
      "Mean Accuracy: 0.6092\n",
      "Mean Precision: 0.6552\n",
      "Mean Recall: 0.5330\n",
      "Mean F1 Score: 0.5712\n",
      "Mean Sensitivity: 0.5330\n",
      "Mean Specificity: 0.7201\n",
      "\n",
      "\n",
      "Performance Metrics for task_21:\n",
      "Mean Accuracy: 0.5916\n",
      "Mean Precision: 0.5915\n",
      "Mean Recall: 0.5323\n",
      "Mean F1 Score: 0.5569\n",
      "Mean Sensitivity: 0.5323\n",
      "Mean Specificity: 0.6282\n",
      "\n",
      "\n",
      "Performance Metrics for task_22:\n",
      "Mean Accuracy: 0.7407\n",
      "Mean Precision: 0.7669\n",
      "Mean Recall: 0.7307\n",
      "Mean F1 Score: 0.7387\n",
      "Mean Sensitivity: 0.7307\n",
      "Mean Specificity: 0.7614\n",
      "\n",
      "\n",
      "Performance Metrics for task_23:\n",
      "Mean Accuracy: 0.7363\n",
      "Mean Precision: 0.7762\n",
      "Mean Recall: 0.7157\n",
      "Mean F1 Score: 0.7321\n",
      "Mean Sensitivity: 0.7157\n",
      "Mean Specificity: 0.7732\n",
      "\n",
      "\n",
      "Performance Metrics for task_24:\n",
      "Mean Accuracy: 0.6039\n",
      "Mean Precision: 0.6157\n",
      "Mean Recall: 0.6056\n",
      "Mean F1 Score: 0.6069\n",
      "Mean Sensitivity: 0.6056\n",
      "Mean Specificity: 0.6079\n",
      "\n",
      "\n",
      "Performance Metrics for task_25:\n",
      "Mean Accuracy: 0.6324\n",
      "Mean Precision: 0.6268\n",
      "Mean Recall: 0.6747\n",
      "Mean F1 Score: 0.6452\n",
      "Mean Sensitivity: 0.6747\n",
      "Mean Specificity: 0.5854\n",
      "\n",
      "\n"
     ]
    }
   ],
   "source": [
    "'''\n",
    "Performance evaluation kNN with K-Fold cross-validation\n",
    "'''\n",
    "\n",
    "import numpy as np\n",
    "from sklearn.model_selection import KFold\n",
    "from sklearn.neighbors import KNeighborsClassifier\n",
    "from sklearn.metrics import accuracy_score, precision_score, recall_score, f1_score, confusion_matrix\n",
    "\n",
    "# Number of folds\n",
    "n_splits = 5  # You can adjust the number of folds as needed\n",
    "\n",
    "# Dictionary to store performance metrics for each task\n",
    "performance_metrics = {}\n",
    "\n",
    "# Iterate through tasks\n",
    "for task, task_df in task_dfs.items():\n",
    "    X_task = task_df\n",
    "    y_task = task_labels[task]\n",
    "\n",
    "    accuracies = []\n",
    "    precisions = []\n",
    "    recalls = []\n",
    "    f1_scores = []\n",
    "    sensitivities = []\n",
    "    specificities = []\n",
    "\n",
    "    # Initialize KFold\n",
    "    kf = KFold(n_splits=n_splits, shuffle=True, random_state=None)\n",
    "\n",
    "    for train_index, test_index in kf.split(X_task):\n",
    "        X_train, X_test = X_task.iloc[train_index], X_task.iloc[test_index]\n",
    "        y_train, y_test = y_task.iloc[train_index], y_task.iloc[test_index]\n",
    "\n",
    "        # Create classifier with best parameters (computed during grid-search)\n",
    "        clf = KNeighborsClassifier(\n",
    "            n_neighbors=1,\n",
    "            weights='uniform',\n",
    "            algorithm='auto',\n",
    "            leaf_size=10,\n",
    "            p=1,\n",
    "            metric='minkowski',\n",
    "            metric_params=None\n",
    "        )\n",
    "\n",
    "        y_train = y_train.values.ravel()\n",
    "        y_test = y_test.values.ravel()\n",
    "         \n",
    "        # Train the model\n",
    "        clf.fit(X_train, y_train)\n",
    "\n",
    "        # Predict on test data\n",
    "        y_pred = clf.predict(X_test)\n",
    "\n",
    "        # Calculate metrics\n",
    "        accuracy = accuracy_score(y_test, y_pred)\n",
    "        precision = precision_score(y_test, y_pred, pos_label='P')\n",
    "        recall = recall_score(y_test, y_pred, pos_label='P')\n",
    "        f1 = f1_score(y_test, y_pred, pos_label='P')\n",
    "\n",
    "        # Compute confusion matrix\n",
    "        cm = confusion_matrix(y_test, y_pred, labels=['H', 'P'])\n",
    "\n",
    "        # Ensure cm has the correct shape for binary classification\n",
    "        if cm.size == 4:\n",
    "            TN, FP, FN, TP = cm.ravel()  # Assumes binary classification\n",
    "            # Calculate sensitivity and specificity\n",
    "            sensitivity = TP / (TP + FN) if (TP + FN) != 0 else 0\n",
    "            specificity = TN / (TN + FP) if (TN + FP) != 0 else 0\n",
    "        else:\n",
    "            # In case of non-binary classification or unexpected confusion matrix size\n",
    "            sensitivity = 0\n",
    "            specificity = 0\n",
    "\n",
    "        # Append metrics\n",
    "        accuracies.append(accuracy)\n",
    "        precisions.append(precision)\n",
    "        recalls.append(recall)\n",
    "        f1_scores.append(f1)\n",
    "        sensitivities.append(sensitivity)\n",
    "        specificities.append(specificity)\n",
    "\n",
    "    # Calculate average metrics\n",
    "    performance_metrics[task] = {\n",
    "        'mean_accuracy': np.mean(accuracies),\n",
    "        'mean_precision': np.mean(precisions),\n",
    "        'mean_recall': np.mean(recalls),\n",
    "        'mean_f1_score': np.mean(f1_scores),\n",
    "        'mean_sensitivity': np.mean(sensitivities),\n",
    "        'mean_specificity': np.mean(specificities)\n",
    "    }\n",
    "\n",
    "    print(f\"Performance Metrics for {task}:\")\n",
    "    print(f\"Mean Accuracy: {performance_metrics[task]['mean_accuracy']:.4f}\")\n",
    "    print(f\"Mean Precision: {performance_metrics[task]['mean_precision']:.4f}\")\n",
    "    print(f\"Mean Recall: {performance_metrics[task]['mean_recall']:.4f}\")\n",
    "    print(f\"Mean F1 Score: {performance_metrics[task]['mean_f1_score']:.4f}\")\n",
    "    print(f\"Mean Sensitivity: {performance_metrics[task]['mean_sensitivity']:.4f}\")\n",
    "    print(f\"Mean Specificity: {performance_metrics[task]['mean_specificity']:.4f}\")\n",
    "    print(\"\\n\")\n"
   ]
  },
  {
   "cell_type": "code",
   "execution_count": null,
   "id": "27df3ed5-4a11-413c-a39f-a6d8cead9713",
   "metadata": {},
   "outputs": [],
   "source": []
  }
 ],
 "metadata": {
  "kernelspec": {
   "display_name": "Python 3 (ipykernel)",
   "language": "python",
   "name": "python3"
  },
  "language_info": {
   "codemirror_mode": {
    "name": "ipython",
    "version": 3
   },
   "file_extension": ".py",
   "mimetype": "text/x-python",
   "name": "python",
   "nbconvert_exporter": "python",
   "pygments_lexer": "ipython3",
   "version": "3.11.9"
  }
 },
 "nbformat": 4,
 "nbformat_minor": 5
}
