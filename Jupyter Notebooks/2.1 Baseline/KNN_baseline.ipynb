{
 "cells": [
  {
   "cell_type": "markdown",
   "id": "e035a7f7-ef67-47a4-9149-2c60647aa21a",
   "metadata": {},
   "source": [
    "## As an alternative to k-fold cross-validation, we also performed something which was suggested in the reference paper: \n",
    "\n",
    "\"To reduce as much as possible the bias introduced by the randomness in selecting the samples of the training and test set, we performed twenty runs. In each run, the dataset was randomly shuffled and split into a training and a test set.\"\n",
    "\n",
    "### Cf. Section 2.1 of our report (we proved there is no significant statistical difference between the results we get with this methodology and k-fold)"
   ]
  },
  {
   "cell_type": "markdown",
   "id": "28e4b0c8-ee87-47e1-98d6-84bd6a82e9db",
   "metadata": {},
   "source": [
    "## KNN (20 iterations)"
   ]
  },
  {
   "cell_type": "code",
   "execution_count": 1,
   "id": "c850899c-58c3-44f1-b43b-4bbf52f7eb55",
   "metadata": {},
   "outputs": [
    {
     "name": "stdout",
     "output_type": "stream",
     "text": [
      "Final Aggregated Performance Metrics:\n",
      "Mean Accuracy: 0.7443 ± 0.0609\n",
      "Mean Precision: 0.9388 ± 0.0682\n",
      "Mean Recall: 0.5417 ± 0.1190\n",
      "Mean F1 Score: 0.6778 ± 0.1024\n",
      "Mean Sensitivity: 0.5417 ± 0.1190\n",
      "Mean Specificity: 0.9588 ± 0.0496\n"
     ]
    }
   ],
   "source": [
    "import pandas as pd\n",
    "from ucimlrepo import fetch_ucirepo\n",
    "import numpy as np\n",
    "from sklearn.neighbors import KNeighborsClassifier\n",
    "from sklearn.metrics import accuracy_score, precision_score, recall_score, f1_score, confusion_matrix\n",
    "from sklearn.model_selection import train_test_split\n",
    "\n",
    "# Fetch dataset \n",
    "darwin = fetch_ucirepo(id=732)\n",
    "\n",
    "# Data (as pandas dataframes)\n",
    "X = darwin.data.features\n",
    "y = darwin.data.targets\n",
    "\n",
    "X = X.drop(columns=['ID'])  # Remove ID column as it's not needed\n",
    "\n",
    "# Number of runs\n",
    "n_runs = 20\n",
    "\n",
    "# Best parameters for KNN\n",
    "params = {\n",
    "    'algorithm': 'auto',\n",
    "    'leaf_size': 10,\n",
    "    'metric': 'minkowski',\n",
    "    'metric_params': None,\n",
    "    'n_neighbors': 1,\n",
    "    'p': 1,\n",
    "    'weights': 'uniform'\n",
    "}\n",
    "\n",
    "# Lists to store performance metrics\n",
    "all_accuracies = []\n",
    "all_precisions = []\n",
    "all_recalls = []\n",
    "all_f1_scores = []\n",
    "all_sensitivities = []\n",
    "all_specificities = []\n",
    "\n",
    "# Run the model multiple times for robustness\n",
    "for run in range(n_runs):\n",
    "    # Shuffle and split the data\n",
    "    X_train, X_test, y_train, y_test = train_test_split(\n",
    "        X, y, test_size=0.2, random_state=None, stratify=y\n",
    "    )\n",
    "\n",
    "    # Ensure y_train and y_test are 1D\n",
    "    y_train = y_train.values.ravel()\n",
    "    y_test = y_test.values.ravel()\n",
    "\n",
    "    # Create KNN classifier with the specified parameters\n",
    "    clf_knn = KNeighborsClassifier(**params)\n",
    "\n",
    "    # Train the model\n",
    "    clf_knn.fit(X_train, y_train)\n",
    "\n",
    "    # Predict on test data\n",
    "    y_pred = clf_knn.predict(X_test)\n",
    "\n",
    "    # Calculate metrics\n",
    "    accuracy = accuracy_score(y_test, y_pred)\n",
    "    precision = precision_score(y_test, y_pred, average='binary', pos_label='P')  # Explicitly define pos_label\n",
    "    recall = recall_score(y_test, y_pred, average='binary', pos_label='P')        # Explicitly define pos_label\n",
    "    f1 = f1_score(y_test, y_pred, average='binary', pos_label='P')                # Explicitly define pos_label\n",
    "\n",
    "    all_accuracies.append(accuracy)\n",
    "    all_precisions.append(precision)\n",
    "    all_recalls.append(recall)\n",
    "    all_f1_scores.append(f1)\n",
    "\n",
    "    # Calculate confusion matrix components\n",
    "    cm = confusion_matrix(y_test, y_pred, labels=['H', 'P'])\n",
    "    # Correctly identify the elements of the confusion matrix\n",
    "    if cm.shape == (2, 2):  # Ensure it's a 2x2 matrix for binary classification\n",
    "        tn, fp, fn, tp = cm.ravel()\n",
    "        sensitivity = tp / (tp + fn) if (tp + fn) > 0 else 0\n",
    "        specificity = tn / (tn + fp) if (tn + fp) > 0 else 0\n",
    "    else:\n",
    "        # If it's not a 2x2 matrix, something went wrong\n",
    "        print(f\"Unexpected confusion matrix shape: {cm.shape}\")\n",
    "        sensitivity = specificity = 0\n",
    "\n",
    "    all_sensitivities.append(sensitivity)\n",
    "    all_specificities.append(specificity)\n",
    "\n",
    "# Calculate overall mean and standard deviation for metrics\n",
    "final_metrics = {\n",
    "    'mean_accuracy': np.mean(all_accuracies),\n",
    "    'std_accuracy': np.std(all_accuracies),\n",
    "    'mean_precision': np.mean(all_precisions),\n",
    "    'std_precision': np.std(all_precisions),\n",
    "    'mean_recall': np.mean(all_recalls),\n",
    "    'std_recall': np.std(all_recalls),\n",
    "    'mean_f1_score': np.mean(all_f1_scores),\n",
    "    'std_f1_score': np.std(all_f1_scores),\n",
    "    'mean_sensitivity': np.mean(all_sensitivities),\n",
    "    'std_sensitivity': np.std(all_sensitivities),\n",
    "    'mean_specificity': np.mean(all_specificities),\n",
    "    'std_specificity': np.std(all_specificities),\n",
    "}\n",
    "\n",
    "# Print the final aggregated metrics\n",
    "print(\"Final Aggregated Performance Metrics:\")\n",
    "print(f\"Mean Accuracy: {final_metrics['mean_accuracy']:.4f} ± {final_metrics['std_accuracy']:.4f}\")\n",
    "print(f\"Mean Precision: {final_metrics['mean_precision']:.4f} ± {final_metrics['std_precision']:.4f}\")\n",
    "print(f\"Mean Recall: {final_metrics['mean_recall']:.4f} ± {final_metrics['std_recall']:.4f}\")\n",
    "print(f\"Mean F1 Score: {final_metrics['mean_f1_score']:.4f} ± {final_metrics['std_f1_score']:.4f}\")\n",
    "print(f\"Mean Sensitivity: {final_metrics['mean_sensitivity']:.4f} ± {final_metrics['std_sensitivity']:.4f}\")\n",
    "print(f\"Mean Specificity: {final_metrics['mean_specificity']:.4f} ± {final_metrics['std_specificity']:.4f}\")\n"
   ]
  },
  {
   "cell_type": "code",
   "execution_count": 2,
   "id": "82673495-248b-4b9e-8403-83d965d0661d",
   "metadata": {},
   "outputs": [
    {
     "data": {
      "text/plain": [
       "[0.8285714285714286,\n",
       " 0.8285714285714286,\n",
       " 0.6857142857142857,\n",
       " 0.8285714285714286,\n",
       " 0.7428571428571429,\n",
       " 0.6285714285714286,\n",
       " 0.7142857142857143,\n",
       " 0.7428571428571429,\n",
       " 0.6285714285714286,\n",
       " 0.6857142857142857,\n",
       " 0.7428571428571429,\n",
       " 0.7428571428571429,\n",
       " 0.6857142857142857,\n",
       " 0.7142857142857143,\n",
       " 0.8285714285714286,\n",
       " 0.7714285714285715,\n",
       " 0.7428571428571429,\n",
       " 0.8,\n",
       " 0.7428571428571429,\n",
       " 0.8]"
      ]
     },
     "execution_count": 2,
     "metadata": {},
     "output_type": "execute_result"
    }
   ],
   "source": [
    "all_accuracies"
   ]
  },
  {
   "cell_type": "code",
   "execution_count": 3,
   "id": "7dc46deb-a4d2-409c-9b44-0ac6be4ba6a6",
   "metadata": {},
   "outputs": [
    {
     "data": {
      "text/plain": [
       "[np.float64(1.0),\n",
       " np.float64(0.9285714285714286),\n",
       " np.float64(1.0),\n",
       " np.float64(1.0),\n",
       " np.float64(1.0),\n",
       " np.float64(1.0),\n",
       " np.float64(0.9),\n",
       " np.float64(0.8),\n",
       " np.float64(0.8571428571428571),\n",
       " np.float64(0.8888888888888888),\n",
       " np.float64(0.8461538461538461),\n",
       " np.float64(1.0),\n",
       " np.float64(0.8181818181818182),\n",
       " np.float64(0.9),\n",
       " np.float64(0.9285714285714286),\n",
       " np.float64(1.0),\n",
       " np.float64(1.0),\n",
       " np.float64(1.0),\n",
       " np.float64(0.9090909090909091),\n",
       " np.float64(1.0)]"
      ]
     },
     "execution_count": 3,
     "metadata": {},
     "output_type": "execute_result"
    }
   ],
   "source": [
    "all_precisions"
   ]
  },
  {
   "cell_type": "code",
   "execution_count": 4,
   "id": "c2031eae-784c-4c9d-98ba-b1863df53b31",
   "metadata": {},
   "outputs": [
    {
     "data": {
      "text/plain": [
       "[np.float64(0.6666666666666666),\n",
       " np.float64(0.7222222222222222),\n",
       " np.float64(0.3888888888888889),\n",
       " np.float64(0.6666666666666666),\n",
       " np.float64(0.5),\n",
       " np.float64(0.2777777777777778),\n",
       " np.float64(0.5),\n",
       " np.float64(0.6666666666666666),\n",
       " np.float64(0.3333333333333333),\n",
       " np.float64(0.4444444444444444),\n",
       " np.float64(0.6111111111111112),\n",
       " np.float64(0.5),\n",
       " np.float64(0.5),\n",
       " np.float64(0.5),\n",
       " np.float64(0.7222222222222222),\n",
       " np.float64(0.5555555555555556),\n",
       " np.float64(0.5),\n",
       " np.float64(0.6111111111111112),\n",
       " np.float64(0.5555555555555556),\n",
       " np.float64(0.6111111111111112)]"
      ]
     },
     "execution_count": 4,
     "metadata": {},
     "output_type": "execute_result"
    }
   ],
   "source": [
    "all_recalls"
   ]
  },
  {
   "cell_type": "code",
   "execution_count": 5,
   "id": "65909ce7-543e-4f7e-b5de-d03cc8661d39",
   "metadata": {},
   "outputs": [
    {
     "data": {
      "text/plain": [
       "[np.float64(0.8),\n",
       " np.float64(0.8125),\n",
       " np.float64(0.56),\n",
       " np.float64(0.8),\n",
       " np.float64(0.6666666666666666),\n",
       " np.float64(0.43478260869565216),\n",
       " np.float64(0.6428571428571429),\n",
       " np.float64(0.7272727272727273),\n",
       " np.float64(0.48),\n",
       " np.float64(0.5925925925925926),\n",
       " np.float64(0.7096774193548387),\n",
       " np.float64(0.6666666666666666),\n",
       " np.float64(0.6206896551724138),\n",
       " np.float64(0.6428571428571429),\n",
       " np.float64(0.8125),\n",
       " np.float64(0.7142857142857143),\n",
       " np.float64(0.6666666666666666),\n",
       " np.float64(0.7586206896551724),\n",
       " np.float64(0.6896551724137931),\n",
       " np.float64(0.7586206896551724)]"
      ]
     },
     "execution_count": 5,
     "metadata": {},
     "output_type": "execute_result"
    }
   ],
   "source": [
    "all_f1_scores"
   ]
  },
  {
   "cell_type": "code",
   "execution_count": 6,
   "id": "8a77d078-fd32-4a79-9a3d-353f27c119aa",
   "metadata": {},
   "outputs": [
    {
     "data": {
      "text/plain": [
       "[np.float64(0.6666666666666666),\n",
       " np.float64(0.7222222222222222),\n",
       " np.float64(0.3888888888888889),\n",
       " np.float64(0.6666666666666666),\n",
       " np.float64(0.5),\n",
       " np.float64(0.2777777777777778),\n",
       " np.float64(0.5),\n",
       " np.float64(0.6666666666666666),\n",
       " np.float64(0.3333333333333333),\n",
       " np.float64(0.4444444444444444),\n",
       " np.float64(0.6111111111111112),\n",
       " np.float64(0.5),\n",
       " np.float64(0.5),\n",
       " np.float64(0.5),\n",
       " np.float64(0.7222222222222222),\n",
       " np.float64(0.5555555555555556),\n",
       " np.float64(0.5),\n",
       " np.float64(0.6111111111111112),\n",
       " np.float64(0.5555555555555556),\n",
       " np.float64(0.6111111111111112)]"
      ]
     },
     "execution_count": 6,
     "metadata": {},
     "output_type": "execute_result"
    }
   ],
   "source": [
    "all_sensitivities"
   ]
  },
  {
   "cell_type": "code",
   "execution_count": 7,
   "id": "b22b2890-1c6b-4653-b64d-24c1055c1d30",
   "metadata": {},
   "outputs": [
    {
     "data": {
      "text/plain": [
       "[np.float64(1.0),\n",
       " np.float64(0.9411764705882353),\n",
       " np.float64(1.0),\n",
       " np.float64(1.0),\n",
       " np.float64(1.0),\n",
       " np.float64(1.0),\n",
       " np.float64(0.9411764705882353),\n",
       " np.float64(0.8235294117647058),\n",
       " np.float64(0.9411764705882353),\n",
       " np.float64(0.9411764705882353),\n",
       " np.float64(0.8823529411764706),\n",
       " np.float64(1.0),\n",
       " np.float64(0.8823529411764706),\n",
       " np.float64(0.9411764705882353),\n",
       " np.float64(0.9411764705882353),\n",
       " np.float64(1.0),\n",
       " np.float64(1.0),\n",
       " np.float64(1.0),\n",
       " np.float64(0.9411764705882353),\n",
       " np.float64(1.0)]"
      ]
     },
     "execution_count": 7,
     "metadata": {},
     "output_type": "execute_result"
    }
   ],
   "source": [
    "all_specificities"
   ]
  },
  {
   "cell_type": "code",
   "execution_count": null,
   "id": "46ac8d94-5197-47ac-9c77-1986ad8c2ba8",
   "metadata": {},
   "outputs": [],
   "source": []
  }
 ],
 "metadata": {
  "kernelspec": {
   "display_name": "Python 3 (ipykernel)",
   "language": "python",
   "name": "python3"
  },
  "language_info": {
   "codemirror_mode": {
    "name": "ipython",
    "version": 3
   },
   "file_extension": ".py",
   "mimetype": "text/x-python",
   "name": "python",
   "nbconvert_exporter": "python",
   "pygments_lexer": "ipython3",
   "version": "3.11.5"
  }
 },
 "nbformat": 4,
 "nbformat_minor": 5
}
