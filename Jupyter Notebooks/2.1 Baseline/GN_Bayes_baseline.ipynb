{
 "cells": [
  {
   "cell_type": "markdown",
   "id": "b71b9dd5-d520-4413-b2e0-c7ac71bb8364",
   "metadata": {},
   "source": [
    "## As an alternative to k-fold cross-validation, we also performed something which was suggested in the reference paper: \n",
    "\n",
    "\"To reduce as much as possible the bias introduced by the randomness in selecting the samples of the training and test set, we performed twenty runs. In each run, the dataset was randomly shuffled and split into a training and a test set.\"\n",
    "\n",
    "### Cf. Section 2.1 of our report (we proved there is no significant statistical difference between the results we get with this methodology and k-fold)"
   ]
  },
  {
   "cell_type": "markdown",
   "id": "b695e8a9-1bee-4039-ac04-ff103bb80ad6",
   "metadata": {},
   "source": [
    "## Gaussian Naive Bayes (20 itearations)"
   ]
  },
  {
   "cell_type": "code",
   "execution_count": 1,
   "id": "39cba96a-452a-4dc5-9e5e-b376902fb3e2",
   "metadata": {},
   "outputs": [
    {
     "name": "stdout",
     "output_type": "stream",
     "text": [
      "Final Aggregated Performance Metrics:\n",
      "Mean Accuracy: 0.8729 ± 0.0447\n",
      "Mean Precision: 0.8404 ± 0.0562\n",
      "Mean Recall: 0.9361 ± 0.0505\n",
      "Mean F1 Score: 0.8839 ± 0.0385\n",
      "Mean Sensitivity: 0.9361 ± 0.0505\n",
      "Mean Specificity: 0.8059 ± 0.0854\n"
     ]
    }
   ],
   "source": [
    "import pandas as pd\n",
    "from ucimlrepo import fetch_ucirepo\n",
    "import numpy as np\n",
    "from sklearn.naive_bayes import GaussianNB\n",
    "from sklearn.metrics import accuracy_score, precision_score, recall_score, f1_score, confusion_matrix\n",
    "from sklearn.model_selection import train_test_split\n",
    "\n",
    "# Fetch dataset \n",
    "darwin = fetch_ucirepo(id=732)\n",
    "\n",
    "# Data (as pandas dataframes)\n",
    "X = darwin.data.features\n",
    "y = darwin.data.targets\n",
    "\n",
    "X = X.drop(columns=['ID'])  # Remove ID column as it's not needed\n",
    "\n",
    "# Number of runs\n",
    "n_runs = 20\n",
    "\n",
    "# Best parameters for Gaussian Naive Bayes\n",
    "params = {\n",
    "    'var_smoothing': 1e-09\n",
    "}\n",
    "\n",
    "# Lists to store performance metrics\n",
    "all_accuracies = []\n",
    "all_precisions = []\n",
    "all_recalls = []\n",
    "all_f1_scores = []\n",
    "all_sensitivities = []\n",
    "all_specificities = []\n",
    "\n",
    "# Run the model multiple times for robustness\n",
    "for run in range(n_runs):\n",
    "    # Shuffle and split the data\n",
    "    X_train, X_test, y_train, y_test = train_test_split(\n",
    "        X, y, test_size=0.2, random_state=None, stratify=y\n",
    "    )\n",
    "\n",
    "    # Ensure y_train and y_test are 1D\n",
    "    y_train = y_train.values.ravel()\n",
    "    y_test = y_test.values.ravel()\n",
    "\n",
    "    # Create Gaussian Naive Bayes classifier with the specified parameters\n",
    "    clf_gnb = GaussianNB(**params)\n",
    "\n",
    "    # Train the model\n",
    "    clf_gnb.fit(X_train, y_train)\n",
    "\n",
    "    # Predict on test data\n",
    "    y_pred = clf_gnb.predict(X_test)\n",
    "\n",
    "    # Calculate metrics\n",
    "    accuracy = accuracy_score(y_test, y_pred)\n",
    "    precision = precision_score(y_test, y_pred, average='binary', pos_label='P')  # Explicitly define pos_label\n",
    "    recall = recall_score(y_test, y_pred, average='binary', pos_label='P')        # Explicitly define pos_label\n",
    "    f1 = f1_score(y_test, y_pred, average='binary', pos_label='P')                # Explicitly define pos_label\n",
    "\n",
    "    all_accuracies.append(accuracy)\n",
    "    all_precisions.append(precision)\n",
    "    all_recalls.append(recall)\n",
    "    all_f1_scores.append(f1)\n",
    "\n",
    "    # Calculate confusion matrix components\n",
    "    cm = confusion_matrix(y_test, y_pred, labels=['H', 'P'])\n",
    "    # Correctly identify the elements of the confusion matrix\n",
    "    if cm.shape == (2, 2):  # Ensure it's a 2x2 matrix for binary classification\n",
    "        tn, fp, fn, tp = cm.ravel()\n",
    "        sensitivity = tp / (tp + fn) if (tp + fn) > 0 else 0\n",
    "        specificity = tn / (tn + fp) if (tn + fp) > 0 else 0\n",
    "    else:\n",
    "        # If it's not a 2x2 matrix, something went wrong\n",
    "        print(f\"Unexpected confusion matrix shape: {cm.shape}\")\n",
    "        sensitivity = specificity = 0\n",
    "\n",
    "    all_sensitivities.append(sensitivity)\n",
    "    all_specificities.append(specificity)\n",
    "\n",
    "# Calculate overall mean and standard deviation for metrics\n",
    "final_metrics = {\n",
    "    'mean_accuracy': np.mean(all_accuracies),\n",
    "    'std_accuracy': np.std(all_accuracies),\n",
    "    'mean_precision': np.mean(all_precisions),\n",
    "    'std_precision': np.std(all_precisions),\n",
    "    'mean_recall': np.mean(all_recalls),\n",
    "    'std_recall': np.std(all_recalls),\n",
    "    'mean_f1_score': np.mean(all_f1_scores),\n",
    "    'std_f1_score': np.std(all_f1_scores),\n",
    "    'mean_sensitivity': np.mean(all_sensitivities),\n",
    "    'std_sensitivity': np.std(all_sensitivities),\n",
    "    'mean_specificity': np.mean(all_specificities),\n",
    "    'std_specificity': np.std(all_specificities),\n",
    "}\n",
    "\n",
    "# Print the final aggregated metrics\n",
    "print(\"Final Aggregated Performance Metrics:\")\n",
    "print(f\"Mean Accuracy: {final_metrics['mean_accuracy']:.4f} ± {final_metrics['std_accuracy']:.4f}\")\n",
    "print(f\"Mean Precision: {final_metrics['mean_precision']:.4f} ± {final_metrics['std_precision']:.4f}\")\n",
    "print(f\"Mean Recall: {final_metrics['mean_recall']:.4f} ± {final_metrics['std_recall']:.4f}\")\n",
    "print(f\"Mean F1 Score: {final_metrics['mean_f1_score']:.4f} ± {final_metrics['std_f1_score']:.4f}\")\n",
    "print(f\"Mean Sensitivity: {final_metrics['mean_sensitivity']:.4f} ± {final_metrics['std_sensitivity']:.4f}\")\n",
    "print(f\"Mean Specificity: {final_metrics['mean_specificity']:.4f} ± {final_metrics['std_specificity']:.4f}\")\n"
   ]
  },
  {
   "cell_type": "code",
   "execution_count": 2,
   "id": "b59f3ee2-c267-401f-acc7-39c9d06f0cd0",
   "metadata": {},
   "outputs": [
    {
     "data": {
      "text/plain": [
       "[0.8857142857142857,\n",
       " 0.8,\n",
       " 0.8,\n",
       " 0.8285714285714286,\n",
       " 0.8571428571428571,\n",
       " 0.8857142857142857,\n",
       " 0.8571428571428571,\n",
       " 0.9142857142857143,\n",
       " 0.9142857142857143,\n",
       " 0.8857142857142857,\n",
       " 0.7714285714285715,\n",
       " 0.9428571428571428,\n",
       " 0.8571428571428571,\n",
       " 0.8857142857142857,\n",
       " 0.8857142857142857,\n",
       " 0.8857142857142857,\n",
       " 0.8571428571428571,\n",
       " 0.8857142857142857,\n",
       " 0.9142857142857143,\n",
       " 0.9428571428571428]"
      ]
     },
     "execution_count": 2,
     "metadata": {},
     "output_type": "execute_result"
    }
   ],
   "source": [
    "all_accuracies"
   ]
  },
  {
   "cell_type": "code",
   "execution_count": 3,
   "id": "e3f6e061-efb6-4791-a9a3-9a9c65a4031c",
   "metadata": {},
   "outputs": [
    {
     "data": {
      "text/plain": [
       "[np.float64(0.85),\n",
       " np.float64(0.7391304347826086),\n",
       " np.float64(0.7619047619047619),\n",
       " np.float64(0.875),\n",
       " np.float64(0.8421052631578947),\n",
       " np.float64(0.8181818181818182),\n",
       " np.float64(0.782608695652174),\n",
       " np.float64(0.8947368421052632),\n",
       " np.float64(0.8571428571428571),\n",
       " np.float64(0.8888888888888888),\n",
       " np.float64(0.7083333333333334),\n",
       " np.float64(0.9),\n",
       " np.float64(0.8095238095238095),\n",
       " np.float64(0.85),\n",
       " np.float64(0.85),\n",
       " np.float64(0.85),\n",
       " np.float64(0.8421052631578947),\n",
       " np.float64(0.85),\n",
       " np.float64(0.8947368421052632),\n",
       " np.float64(0.9444444444444444)]"
      ]
     },
     "execution_count": 3,
     "metadata": {},
     "output_type": "execute_result"
    }
   ],
   "source": [
    "all_precisions"
   ]
  },
  {
   "cell_type": "code",
   "execution_count": 4,
   "id": "8bc33f2b-e589-4885-a1f6-cf2e3524060d",
   "metadata": {},
   "outputs": [
    {
     "data": {
      "text/plain": [
       "[np.float64(0.9444444444444444),\n",
       " np.float64(0.9444444444444444),\n",
       " np.float64(0.8888888888888888),\n",
       " np.float64(0.7777777777777778),\n",
       " np.float64(0.8888888888888888),\n",
       " np.float64(1.0),\n",
       " np.float64(1.0),\n",
       " np.float64(0.9444444444444444),\n",
       " np.float64(1.0),\n",
       " np.float64(0.8888888888888888),\n",
       " np.float64(0.9444444444444444),\n",
       " np.float64(1.0),\n",
       " np.float64(0.9444444444444444),\n",
       " np.float64(0.9444444444444444),\n",
       " np.float64(0.9444444444444444),\n",
       " np.float64(0.9444444444444444),\n",
       " np.float64(0.8888888888888888),\n",
       " np.float64(0.9444444444444444),\n",
       " np.float64(0.9444444444444444),\n",
       " np.float64(0.9444444444444444)]"
      ]
     },
     "execution_count": 4,
     "metadata": {},
     "output_type": "execute_result"
    }
   ],
   "source": [
    "all_recalls"
   ]
  },
  {
   "cell_type": "code",
   "execution_count": 5,
   "id": "1457d68f-bfc5-45d4-a1a4-4b2663542936",
   "metadata": {},
   "outputs": [
    {
     "data": {
      "text/plain": [
       "[np.float64(0.8947368421052632),\n",
       " np.float64(0.8292682926829268),\n",
       " np.float64(0.8205128205128205),\n",
       " np.float64(0.8235294117647058),\n",
       " np.float64(0.8648648648648649),\n",
       " np.float64(0.9),\n",
       " np.float64(0.8780487804878049),\n",
       " np.float64(0.918918918918919),\n",
       " np.float64(0.9230769230769231),\n",
       " np.float64(0.8888888888888888),\n",
       " np.float64(0.8095238095238095),\n",
       " np.float64(0.9473684210526315),\n",
       " np.float64(0.8717948717948718),\n",
       " np.float64(0.8947368421052632),\n",
       " np.float64(0.8947368421052632),\n",
       " np.float64(0.8947368421052632),\n",
       " np.float64(0.8648648648648649),\n",
       " np.float64(0.8947368421052632),\n",
       " np.float64(0.918918918918919),\n",
       " np.float64(0.9444444444444444)]"
      ]
     },
     "execution_count": 5,
     "metadata": {},
     "output_type": "execute_result"
    }
   ],
   "source": [
    "all_f1_scores"
   ]
  },
  {
   "cell_type": "code",
   "execution_count": 6,
   "id": "91bd816f-cf90-440d-973a-34f20a0ad047",
   "metadata": {},
   "outputs": [
    {
     "data": {
      "text/plain": [
       "[np.float64(0.9444444444444444),\n",
       " np.float64(0.9444444444444444),\n",
       " np.float64(0.8888888888888888),\n",
       " np.float64(0.7777777777777778),\n",
       " np.float64(0.8888888888888888),\n",
       " np.float64(1.0),\n",
       " np.float64(1.0),\n",
       " np.float64(0.9444444444444444),\n",
       " np.float64(1.0),\n",
       " np.float64(0.8888888888888888),\n",
       " np.float64(0.9444444444444444),\n",
       " np.float64(1.0),\n",
       " np.float64(0.9444444444444444),\n",
       " np.float64(0.9444444444444444),\n",
       " np.float64(0.9444444444444444),\n",
       " np.float64(0.9444444444444444),\n",
       " np.float64(0.8888888888888888),\n",
       " np.float64(0.9444444444444444),\n",
       " np.float64(0.9444444444444444),\n",
       " np.float64(0.9444444444444444)]"
      ]
     },
     "execution_count": 6,
     "metadata": {},
     "output_type": "execute_result"
    }
   ],
   "source": [
    "all_sensitivities"
   ]
  },
  {
   "cell_type": "code",
   "execution_count": 7,
   "id": "1554c97e-0e8c-4b34-9ff5-739911d38b34",
   "metadata": {},
   "outputs": [
    {
     "data": {
      "text/plain": [
       "[np.float64(0.8235294117647058),\n",
       " np.float64(0.6470588235294118),\n",
       " np.float64(0.7058823529411765),\n",
       " np.float64(0.8823529411764706),\n",
       " np.float64(0.8235294117647058),\n",
       " np.float64(0.7647058823529411),\n",
       " np.float64(0.7058823529411765),\n",
       " np.float64(0.8823529411764706),\n",
       " np.float64(0.8235294117647058),\n",
       " np.float64(0.8823529411764706),\n",
       " np.float64(0.5882352941176471),\n",
       " np.float64(0.8823529411764706),\n",
       " np.float64(0.7647058823529411),\n",
       " np.float64(0.8235294117647058),\n",
       " np.float64(0.8235294117647058),\n",
       " np.float64(0.8235294117647058),\n",
       " np.float64(0.8235294117647058),\n",
       " np.float64(0.8235294117647058),\n",
       " np.float64(0.8823529411764706),\n",
       " np.float64(0.9411764705882353)]"
      ]
     },
     "execution_count": 7,
     "metadata": {},
     "output_type": "execute_result"
    }
   ],
   "source": [
    "all_specificities"
   ]
  },
  {
   "cell_type": "code",
   "execution_count": null,
   "id": "83789cff-6fda-4f29-b1dc-09e58b34a67e",
   "metadata": {},
   "outputs": [],
   "source": []
  }
 ],
 "metadata": {
  "kernelspec": {
   "display_name": "Python 3 (ipykernel)",
   "language": "python",
   "name": "python3"
  },
  "language_info": {
   "codemirror_mode": {
    "name": "ipython",
    "version": 3
   },
   "file_extension": ".py",
   "mimetype": "text/x-python",
   "name": "python",
   "nbconvert_exporter": "python",
   "pygments_lexer": "ipython3",
   "version": "3.11.5"
  }
 },
 "nbformat": 4,
 "nbformat_minor": 5
}
